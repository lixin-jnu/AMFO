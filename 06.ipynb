{
 "cells": [
  {
   "cell_type": "code",
   "execution_count": 1,
   "metadata": {},
   "outputs": [],
   "source": [
    "import copy\n",
    "import pickle\n",
    "import numpy as np\n",
    "import networkx as nx\n",
    "from itertools import product\n",
    "from collections import OrderedDict"
   ]
  },
  {
   "cell_type": "code",
   "execution_count": 32,
   "metadata": {},
   "outputs": [],
   "source": [
    "lambda_rate_sp = [2, 4, 6, 8, 10]\n",
    "cost_diff_sp = [1.2, 1.4, 1.6, 1.8, 2.0]\n",
    "func_num_sp = [10, 20, 30, 40, 50]\n",
    "cpu_core_sp = [100, 200, 300, 400, 500]\n",
    "cache_capacity_sp = [256, 512, 768, 1024]\n",
    "soft_ddl_param_sp = [[0.1, 0.2], [0.2, 0.3], [0.3, 0.4], [0.4, 0.5]]\n",
    "\n",
    "node_selection_strategy_sp = [\n",
    "    \"NS_min_dis_own\",\n",
    "    \"NS_min_dis_all\",\n",
    "    \"NS_min_user\",\n",
    "    \"NS_max_node\",\n",
    "    \"NS_exist_func\",\n",
    "]\n",
    "path_selection_strategy_sp = [\"PS_min_dis\", \"PS_max_cache\", \"PS_max_cpu\"]\n",
    "task_sorting_strategy_sp = [\n",
    "    \"TS_exec_time_asc\",\n",
    "    \"TS_data_vol_asc\",\n",
    "    \"TS_exec_time_to_data_vol_ratio_asc\",\n",
    "    \"TS_closest_soft_ddl\",\n",
    "    \"TS_highest_response_ratio\",\n",
    "]\n",
    "\n",
    "combinations = list(\n",
    "    product(lambda_rate_sp, cost_diff_sp, func_num_sp, cpu_core_sp,\n",
    "            cache_capacity_sp, soft_ddl_param_sp, node_selection_strategy_sp,\n",
    "            path_selection_strategy_sp, task_sorting_strategy_sp))"
   ]
  },
  {
   "cell_type": "code",
   "execution_count": 33,
   "metadata": {},
   "outputs": [
    {
     "data": {
      "text/plain": [
       "750000"
      ]
     },
     "execution_count": 33,
     "metadata": {},
     "output_type": "execute_result"
    }
   ],
   "source": [
    "len(combinations)"
   ]
  },
  {
   "cell_type": "code",
   "execution_count": 35,
   "metadata": {},
   "outputs": [
    {
     "data": {
      "text/plain": [
       "(2,\n",
       " 1.2,\n",
       " 10,\n",
       " 100,\n",
       " 256,\n",
       " [0.3, 0.4],\n",
       " 'NS_max_node',\n",
       " 'PS_max_cache',\n",
       " 'TS_exec_time_asc')"
      ]
     },
     "execution_count": 35,
     "metadata": {},
     "output_type": "execute_result"
    }
   ],
   "source": [
    "combinations[200]"
   ]
  },
  {
   "cell_type": "code",
   "execution_count": 4,
   "metadata": {},
   "outputs": [],
   "source": [
    "with open(r'outData/comm.pkl', 'wb') as file:\n",
    "    pickle.dump(combinations, file)"
   ]
  },
  {
   "cell_type": "code",
   "execution_count": 10,
   "metadata": {},
   "outputs": [],
   "source": [
    "# user.pkl\n",
    "# 用户Id -> [\n",
    "#            内网拓扑最近的边缘节点,\n",
    "#            全网拓扑最近的边缘节点,\n",
    "#            覆盖用户数最少的边缘节点,\n",
    "#            邻居节点数最多的边缘节点,\n",
    "#            以距离远近排序的边缘节点列表\n",
    "#          ]"
   ]
  },
  {
   "cell_type": "code",
   "execution_count": 3,
   "metadata": {},
   "outputs": [],
   "source": [
    "with open(r\"outData/user-1.pkl\", \"rb\") as file:\n",
    "    user = pickle.load(file)\n",
    "with open(r\"outData/node.pkl\", \"rb\") as file:\n",
    "    node = pickle.load(file)"
   ]
  },
  {
   "cell_type": "code",
   "execution_count": 4,
   "metadata": {},
   "outputs": [
    {
     "data": {
      "text/plain": [
       "array([[ 52,   1, 369],\n",
       "       [ 93,   1, 146],\n",
       "       [ 53,   1, 835],\n",
       "       [ 12,   1, 222],\n",
       "       [116,   1, 629],\n",
       "       [ 50,   1, 549],\n",
       "       [ 86,   1, 378],\n",
       "       [ 22,   1, 902],\n",
       "       [108,   6, 269],\n",
       "       [  0,   6,  67],\n",
       "       [ 92,   6,  63],\n",
       "       [115,   6, 356],\n",
       "       [ 21,   6, 430],\n",
       "       [ 23,  24, 209],\n",
       "       [ 87,  24, 147],\n",
       "       [ 27,  24, 246],\n",
       "       [ 34,  24, 167],\n",
       "       [109,  24, 246]])"
      ]
     },
     "execution_count": 4,
     "metadata": {},
     "output_type": "execute_result"
    }
   ],
   "source": [
    "user[0]"
   ]
  },
  {
   "cell_type": "code",
   "execution_count": 5,
   "metadata": {},
   "outputs": [
    {
     "data": {
      "text/plain": [
       "816"
      ]
     },
     "execution_count": 5,
     "metadata": {},
     "output_type": "execute_result"
    }
   ],
   "source": [
    "len(user)"
   ]
  },
  {
   "cell_type": "code",
   "execution_count": 6,
   "metadata": {},
   "outputs": [],
   "source": [
    "##################################\n",
    "# ---------节点选择策略---------- #\n",
    "##################################\n",
    "# 1.min_dis_own:选择距离最近的本服务提供商的基站\n",
    "def NS_min_dis_own(userId, funcId=-1):\n",
    "    serviceId = 1 if userId % 3 == 1 else (6 if userId % 3 == 2 else 24)\n",
    "    sortedNdLst = sorted(user[userId], key=lambda x: x[2])\n",
    "    for nd in sortedNdLst:\n",
    "        if nd[1] == serviceId:\n",
    "            return nd[0]\n",
    "\n",
    "# 2.min_dis_all:选择距离最近的基站\n",
    "def NS_min_dis_all(userId, funcId=-1):\n",
    "    return min(user[userId], key=lambda x: x[2])[0]\n",
    "\n",
    "# 3.min_user:选择覆盖用户数最少的基站\n",
    "def NS_min_user(userId, funcId=-1):\n",
    "    return min(user[userId], key=lambda x: node[x[0]][0])[0]\n",
    "\n",
    "# 4.max_node:选择邻居基站数最多的基站\n",
    "def NS_max_node(userId, funcId=-1):\n",
    "    return max(user[userId], key=lambda x: node[x[0]][1])[0]"
   ]
  },
  {
   "cell_type": "code",
   "execution_count": 7,
   "metadata": {},
   "outputs": [],
   "source": [
    "newUser = {}\n",
    "for userId in user:\n",
    "    newUser[userId] = [\n",
    "        NS_min_dis_own(userId),\n",
    "        NS_min_dis_all(userId),\n",
    "        NS_min_user(userId),\n",
    "        NS_max_node(userId),\n",
    "        [x[0] for x in sorted(user[userId], key=lambda x: x[2])]\n",
    "    ]"
   ]
  },
  {
   "cell_type": "code",
   "execution_count": 8,
   "metadata": {},
   "outputs": [
    {
     "data": {
      "text/plain": [
       "[87,\n",
       " 92,\n",
       " 87,\n",
       " 53,\n",
       " [92, 0, 93, 87, 34, 23, 12, 27, 109, 108, 115, 52, 86, 21, 50, 116, 53, 22]]"
      ]
     },
     "execution_count": 8,
     "metadata": {},
     "output_type": "execute_result"
    }
   ],
   "source": [
    "newUser[0]"
   ]
  },
  {
   "cell_type": "code",
   "execution_count": 10,
   "metadata": {},
   "outputs": [],
   "source": [
    "with open(r'outData/user-2.pkl', 'wb') as file:\n",
    "    pickle.dump(newUser, file)"
   ]
  },
  {
   "cell_type": "code",
   "execution_count": 9,
   "metadata": {},
   "outputs": [
    {
     "data": {
      "text/plain": [
       "816"
      ]
     },
     "execution_count": 9,
     "metadata": {},
     "output_type": "execute_result"
    }
   ],
   "source": [
    "len(newUser)"
   ]
  },
  {
   "cell_type": "code",
   "execution_count": 11,
   "metadata": {},
   "outputs": [],
   "source": [
    "with open(r\"outData/graph-1.pkl\", \"rb\") as file:\n",
    "    graph = pickle.load(file)"
   ]
  },
  {
   "cell_type": "code",
   "execution_count": 12,
   "metadata": {},
   "outputs": [
    {
     "data": {
      "text/plain": [
       "{'sub-1': <networkx.classes.digraph.DiGraph at 0x7febb811bc50>,\n",
       " 'sub-6': <networkx.classes.digraph.DiGraph at 0x7febb8252a90>,\n",
       " 'mmWave-24': <networkx.classes.digraph.DiGraph at 0x7febb86673d0>,\n",
       " 'cross-net': <networkx.classes.digraph.DiGraph at 0x7febb82a5dd0>}"
      ]
     },
     "execution_count": 12,
     "metadata": {},
     "output_type": "execute_result"
    }
   ],
   "source": [
    "graph"
   ]
  },
  {
   "cell_type": "code",
   "execution_count": 13,
   "metadata": {},
   "outputs": [],
   "source": [
    "G_sub_1 = copy.deepcopy(graph[\"sub-1\"])\n",
    "G_sub_6 = copy.deepcopy(graph[\"sub-6\"])\n",
    "G_mmWave_24 = copy.deepcopy(graph[\"mmWave-24\"])"
   ]
  },
  {
   "cell_type": "code",
   "execution_count": 14,
   "metadata": {},
   "outputs": [],
   "source": [
    "for u, v, _ in G_sub_1.edges(data=True):\n",
    "    G_sub_1[u][v][\"weight\"] = 1.0 / 1000.0\n",
    "\n",
    "for u, v, _ in G_sub_6.edges(data=True):\n",
    "    G_sub_6[u][v][\"weight\"] = 1.0 / 2000.0\n",
    "\n",
    "for u, v, _ in G_mmWave_24.edges(data=True):\n",
    "    G_mmWave_24[u][v][\"weight\"] = 1.0 / 4000.0"
   ]
  },
  {
   "cell_type": "code",
   "execution_count": 15,
   "metadata": {},
   "outputs": [
    {
     "data": {
      "text/plain": [
       "{30: 0,\n",
       " 89: 0.001,\n",
       " 52: 0.001,\n",
       " 57: 0.001,\n",
       " 93: 0.001,\n",
       " 53: 0.001,\n",
       " 1: 0.001,\n",
       " 56: 0.001,\n",
       " 12: 0.001,\n",
       " 38: 0.001,\n",
       " 76: 0.001,\n",
       " 28: 0.001,\n",
       " 22: 0.001,\n",
       " 98: 0.001,\n",
       " 84: 0.002,\n",
       " 116: 0.002,\n",
       " 50: 0.002,\n",
       " 86: 0.002}"
      ]
     },
     "execution_count": 15,
     "metadata": {},
     "output_type": "execute_result"
    }
   ],
   "source": [
    "nx.shortest_path_length(G_sub_1, 30, weight=\"weight\")"
   ]
  },
  {
   "cell_type": "code",
   "execution_count": 16,
   "metadata": {},
   "outputs": [],
   "source": [
    "adjDict = {}\n",
    "G_1 = {}\n",
    "G_6 = {}\n",
    "G_24 = {}\n",
    "for nd in G_sub_1.nodes():\n",
    "    G_1[nd] = dict(nx.shortest_path_length(G_sub_1, nd, weight=\"weight\"))\n",
    "for nd in G_sub_6.nodes():\n",
    "    G_6[nd] = dict(nx.shortest_path_length(G_sub_6, nd, weight=\"weight\"))\n",
    "for nd in G_mmWave_24.nodes():\n",
    "    G_24[nd] = dict(nx.shortest_path_length(G_mmWave_24, nd, weight=\"weight\"))\n",
    "adjDict[1] = G_1\n",
    "adjDict[6] = G_6\n",
    "adjDict[24] = G_24"
   ]
  },
  {
   "cell_type": "code",
   "execution_count": 17,
   "metadata": {},
   "outputs": [
    {
     "data": {
      "text/plain": [
       "{30: {30: 0,\n",
       "  89: 0.001,\n",
       "  52: 0.001,\n",
       "  57: 0.001,\n",
       "  93: 0.001,\n",
       "  53: 0.001,\n",
       "  1: 0.001,\n",
       "  56: 0.001,\n",
       "  12: 0.001,\n",
       "  38: 0.001,\n",
       "  76: 0.001,\n",
       "  28: 0.001,\n",
       "  22: 0.001,\n",
       "  98: 0.001,\n",
       "  84: 0.002,\n",
       "  116: 0.002,\n",
       "  50: 0.002,\n",
       "  86: 0.002},\n",
       " 89: {89: 0,\n",
       "  30: 0.001,\n",
       "  57: 0.001,\n",
       "  53: 0.001,\n",
       "  1: 0.001,\n",
       "  56: 0.001,\n",
       "  38: 0.001,\n",
       "  76: 0.001,\n",
       "  84: 0.001,\n",
       "  28: 0.001,\n",
       "  98: 0.001,\n",
       "  52: 0.002,\n",
       "  93: 0.002,\n",
       "  12: 0.002,\n",
       "  22: 0.002,\n",
       "  116: 0.002,\n",
       "  50: 0.002,\n",
       "  86: 0.002},\n",
       " 52: {52: 0,\n",
       "  30: 0.001,\n",
       "  57: 0.001,\n",
       "  93: 0.001,\n",
       "  53: 0.001,\n",
       "  12: 0.001,\n",
       "  116: 0.001,\n",
       "  50: 0.001,\n",
       "  86: 0.001,\n",
       "  76: 0.001,\n",
       "  28: 0.001,\n",
       "  22: 0.001,\n",
       "  89: 0.002,\n",
       "  1: 0.002,\n",
       "  56: 0.002,\n",
       "  38: 0.002,\n",
       "  98: 0.002,\n",
       "  84: 0.002},\n",
       " 57: {57: 0,\n",
       "  30: 0.001,\n",
       "  89: 0.001,\n",
       "  52: 0.001,\n",
       "  53: 0.001,\n",
       "  1: 0.001,\n",
       "  56: 0.001,\n",
       "  38: 0.001,\n",
       "  76: 0.001,\n",
       "  84: 0.001,\n",
       "  28: 0.001,\n",
       "  22: 0.001,\n",
       "  98: 0.001,\n",
       "  93: 0.002,\n",
       "  12: 0.002,\n",
       "  116: 0.002,\n",
       "  50: 0.002,\n",
       "  86: 0.002},\n",
       " 93: {93: 0,\n",
       "  30: 0.001,\n",
       "  52: 0.001,\n",
       "  53: 0.001,\n",
       "  12: 0.001,\n",
       "  116: 0.001,\n",
       "  50: 0.001,\n",
       "  86: 0.001,\n",
       "  22: 0.001,\n",
       "  89: 0.002,\n",
       "  57: 0.002,\n",
       "  1: 0.002,\n",
       "  56: 0.002,\n",
       "  38: 0.002,\n",
       "  76: 0.002,\n",
       "  28: 0.002,\n",
       "  98: 0.002,\n",
       "  84: 0.003},\n",
       " 53: {53: 0,\n",
       "  30: 0.001,\n",
       "  89: 0.001,\n",
       "  52: 0.001,\n",
       "  57: 0.001,\n",
       "  93: 0.001,\n",
       "  56: 0.001,\n",
       "  12: 0.001,\n",
       "  116: 0.001,\n",
       "  50: 0.001,\n",
       "  86: 0.001,\n",
       "  76: 0.001,\n",
       "  28: 0.001,\n",
       "  22: 0.001,\n",
       "  98: 0.001,\n",
       "  1: 0.002,\n",
       "  38: 0.002,\n",
       "  84: 0.002},\n",
       " 1: {1: 0,\n",
       "  30: 0.001,\n",
       "  89: 0.001,\n",
       "  57: 0.001,\n",
       "  56: 0.001,\n",
       "  38: 0.001,\n",
       "  76: 0.001,\n",
       "  84: 0.001,\n",
       "  28: 0.001,\n",
       "  98: 0.001,\n",
       "  52: 0.002,\n",
       "  93: 0.002,\n",
       "  53: 0.002,\n",
       "  12: 0.002,\n",
       "  22: 0.002,\n",
       "  116: 0.002,\n",
       "  50: 0.002,\n",
       "  86: 0.002},\n",
       " 56: {56: 0,\n",
       "  30: 0.001,\n",
       "  89: 0.001,\n",
       "  57: 0.001,\n",
       "  53: 0.001,\n",
       "  1: 0.001,\n",
       "  38: 0.001,\n",
       "  76: 0.001,\n",
       "  84: 0.001,\n",
       "  28: 0.001,\n",
       "  22: 0.001,\n",
       "  98: 0.001,\n",
       "  52: 0.002,\n",
       "  93: 0.002,\n",
       "  12: 0.002,\n",
       "  116: 0.002,\n",
       "  50: 0.002,\n",
       "  86: 0.002},\n",
       " 12: {12: 0,\n",
       "  30: 0.001,\n",
       "  52: 0.001,\n",
       "  93: 0.001,\n",
       "  53: 0.001,\n",
       "  116: 0.001,\n",
       "  50: 0.001,\n",
       "  86: 0.001,\n",
       "  28: 0.001,\n",
       "  22: 0.001,\n",
       "  89: 0.002,\n",
       "  57: 0.002,\n",
       "  1: 0.002,\n",
       "  56: 0.002,\n",
       "  38: 0.002,\n",
       "  76: 0.002,\n",
       "  98: 0.002,\n",
       "  84: 0.002},\n",
       " 38: {38: 0,\n",
       "  30: 0.001,\n",
       "  89: 0.001,\n",
       "  57: 0.001,\n",
       "  1: 0.001,\n",
       "  56: 0.001,\n",
       "  76: 0.001,\n",
       "  84: 0.001,\n",
       "  98: 0.001,\n",
       "  52: 0.002,\n",
       "  93: 0.002,\n",
       "  53: 0.002,\n",
       "  12: 0.002,\n",
       "  28: 0.002,\n",
       "  22: 0.002,\n",
       "  116: 0.002,\n",
       "  50: 0.003,\n",
       "  86: 0.003},\n",
       " 76: {76: 0,\n",
       "  30: 0.001,\n",
       "  89: 0.001,\n",
       "  52: 0.001,\n",
       "  57: 0.001,\n",
       "  53: 0.001,\n",
       "  1: 0.001,\n",
       "  56: 0.001,\n",
       "  116: 0.001,\n",
       "  38: 0.001,\n",
       "  84: 0.001,\n",
       "  28: 0.001,\n",
       "  22: 0.001,\n",
       "  98: 0.001,\n",
       "  93: 0.002,\n",
       "  12: 0.002,\n",
       "  50: 0.002,\n",
       "  86: 0.002},\n",
       " 28: {28: 0,\n",
       "  30: 0.001,\n",
       "  89: 0.001,\n",
       "  52: 0.001,\n",
       "  57: 0.001,\n",
       "  53: 0.001,\n",
       "  1: 0.001,\n",
       "  56: 0.001,\n",
       "  12: 0.001,\n",
       "  116: 0.001,\n",
       "  50: 0.001,\n",
       "  86: 0.001,\n",
       "  76: 0.001,\n",
       "  84: 0.001,\n",
       "  22: 0.001,\n",
       "  98: 0.001,\n",
       "  93: 0.002,\n",
       "  38: 0.002},\n",
       " 22: {22: 0,\n",
       "  30: 0.001,\n",
       "  52: 0.001,\n",
       "  57: 0.001,\n",
       "  93: 0.001,\n",
       "  53: 0.001,\n",
       "  56: 0.001,\n",
       "  12: 0.001,\n",
       "  116: 0.001,\n",
       "  50: 0.001,\n",
       "  86: 0.001,\n",
       "  76: 0.001,\n",
       "  28: 0.001,\n",
       "  98: 0.001,\n",
       "  89: 0.002,\n",
       "  1: 0.002,\n",
       "  38: 0.002,\n",
       "  84: 0.002},\n",
       " 98: {98: 0,\n",
       "  30: 0.001,\n",
       "  89: 0.001,\n",
       "  57: 0.001,\n",
       "  53: 0.001,\n",
       "  1: 0.001,\n",
       "  56: 0.001,\n",
       "  38: 0.001,\n",
       "  76: 0.001,\n",
       "  84: 0.001,\n",
       "  28: 0.001,\n",
       "  22: 0.001,\n",
       "  52: 0.002,\n",
       "  93: 0.002,\n",
       "  12: 0.002,\n",
       "  116: 0.002,\n",
       "  50: 0.002,\n",
       "  86: 0.002},\n",
       " 84: {84: 0,\n",
       "  89: 0.001,\n",
       "  57: 0.001,\n",
       "  1: 0.001,\n",
       "  56: 0.001,\n",
       "  38: 0.001,\n",
       "  76: 0.001,\n",
       "  28: 0.001,\n",
       "  98: 0.001,\n",
       "  30: 0.002,\n",
       "  53: 0.002,\n",
       "  52: 0.002,\n",
       "  22: 0.002,\n",
       "  116: 0.002,\n",
       "  12: 0.002,\n",
       "  50: 0.002,\n",
       "  86: 0.002,\n",
       "  93: 0.003},\n",
       " 116: {116: 0,\n",
       "  52: 0.001,\n",
       "  93: 0.001,\n",
       "  53: 0.001,\n",
       "  12: 0.001,\n",
       "  50: 0.001,\n",
       "  86: 0.001,\n",
       "  76: 0.001,\n",
       "  28: 0.001,\n",
       "  22: 0.001,\n",
       "  30: 0.002,\n",
       "  57: 0.002,\n",
       "  89: 0.002,\n",
       "  56: 0.002,\n",
       "  98: 0.002,\n",
       "  1: 0.002,\n",
       "  38: 0.002,\n",
       "  84: 0.002},\n",
       " 50: {50: 0,\n",
       "  52: 0.001,\n",
       "  93: 0.001,\n",
       "  53: 0.001,\n",
       "  12: 0.001,\n",
       "  116: 0.001,\n",
       "  86: 0.001,\n",
       "  28: 0.001,\n",
       "  22: 0.001,\n",
       "  30: 0.002,\n",
       "  57: 0.002,\n",
       "  76: 0.002,\n",
       "  89: 0.002,\n",
       "  56: 0.002,\n",
       "  98: 0.002,\n",
       "  1: 0.002,\n",
       "  84: 0.002,\n",
       "  38: 0.003},\n",
       " 86: {86: 0,\n",
       "  52: 0.001,\n",
       "  93: 0.001,\n",
       "  53: 0.001,\n",
       "  12: 0.001,\n",
       "  116: 0.001,\n",
       "  50: 0.001,\n",
       "  28: 0.001,\n",
       "  22: 0.001,\n",
       "  30: 0.002,\n",
       "  57: 0.002,\n",
       "  76: 0.002,\n",
       "  89: 0.002,\n",
       "  56: 0.002,\n",
       "  98: 0.002,\n",
       "  1: 0.002,\n",
       "  84: 0.002,\n",
       "  38: 0.003}}"
      ]
     },
     "execution_count": 17,
     "metadata": {},
     "output_type": "execute_result"
    }
   ],
   "source": [
    "adjDict[1]"
   ]
  },
  {
   "cell_type": "code",
   "execution_count": 18,
   "metadata": {},
   "outputs": [],
   "source": [
    "sub_1 = np.array(\n",
    "    [30, 89, 52, 57, 93, 53, 1, 56, 12, 116, 38, 50, 86, 76, 84, 28, 22, 98])\n",
    "sub_6 = np.array([\n",
    "    103, 54, 108, 45, 95, 36, 58, 14, 6, 11, 0, 96, 88, 25, 104, 113, 80, 81,\n",
    "    94, 7, 31, 92, 115, 39, 21, 72, 4, 9, 105, 85, 37, 63, 107, 17, 79, 26\n",
    "])\n",
    "mmWave_24 = np.array([\n",
    "    32, 55, 124, 118, 101, 3, 106, 97, 66, 19, 68, 13, 122, 70, 23, 59, 15, 47,\n",
    "    10, 87, 102, 65, 29, 2, 73, 5, 75, 114, 117, 77, 33, 35, 60, 8, 46, 111,\n",
    "    112, 71, 43, 61, 27, 51, 69, 121, 90, 16, 41, 64, 67, 34, 99, 120, 123, 62,\n",
    "    100, 74, 109, 42, 119, 48, 78, 24, 83, 110, 20, 44, 91, 40, 82, 18, 49\n",
    "])\n",
    "cost_diff = 1.2\n",
    "G_cross_net = copy.deepcopy(graph[\"cross-net\"])\n",
    "for u, v, _ in G_cross_net.edges(data=True):\n",
    "    if u in sub_1:\n",
    "        bandwidth = 1000.0\n",
    "    elif u in sub_6:\n",
    "        bandwidth = 2000.0\n",
    "    else:\n",
    "        bandwidth = 4000.0\n",
    "    if ((u in sub_1 and v in sub_1) or (u in sub_6 and v in sub_6)\n",
    "            or (u in mmWave_24 and v in mmWave_24)):\n",
    "        G_cross_net[u][v][\"weight\"] = 1.0 / bandwidth\n",
    "    else:\n",
    "        G_cross_net[u][v][\"weight\"] = cost_diff / bandwidth\n",
    "G_tmp = {}\n",
    "for nd in G_cross_net.nodes():\n",
    "    G_tmp[nd] = dict(nx.shortest_path_length(G_cross_net, nd, weight=\"weight\"))\n",
    "adjDict[cost_diff] = G_tmp"
   ]
  },
  {
   "cell_type": "code",
   "execution_count": 19,
   "metadata": {},
   "outputs": [],
   "source": [
    "cost_diff = 1.4\n",
    "G_cross_net = copy.deepcopy(graph[\"cross-net\"])\n",
    "for u, v, _ in G_cross_net.edges(data=True):\n",
    "    if u in sub_1:\n",
    "        bandwidth = 1000.0\n",
    "    elif u in sub_6:\n",
    "        bandwidth = 2000.0\n",
    "    else:\n",
    "        bandwidth = 4000.0\n",
    "    if ((u in sub_1 and v in sub_1) or (u in sub_6 and v in sub_6)\n",
    "            or (u in mmWave_24 and v in mmWave_24)):\n",
    "        G_cross_net[u][v][\"weight\"] = 1.0 / bandwidth\n",
    "    else:\n",
    "        G_cross_net[u][v][\"weight\"] = cost_diff / bandwidth\n",
    "G_tmp = {}\n",
    "for nd in G_cross_net.nodes():\n",
    "    G_tmp[nd] = dict(nx.shortest_path_length(G_cross_net, nd, weight=\"weight\"))\n",
    "adjDict[cost_diff] = G_tmp"
   ]
  },
  {
   "cell_type": "code",
   "execution_count": 20,
   "metadata": {},
   "outputs": [],
   "source": [
    "cost_diff = 1.6\n",
    "G_cross_net = copy.deepcopy(graph[\"cross-net\"])\n",
    "for u, v, _ in G_cross_net.edges(data=True):\n",
    "    if u in sub_1:\n",
    "        bandwidth = 1000.0\n",
    "    elif u in sub_6:\n",
    "        bandwidth = 2000.0\n",
    "    else:\n",
    "        bandwidth = 4000.0\n",
    "    if ((u in sub_1 and v in sub_1) or (u in sub_6 and v in sub_6)\n",
    "            or (u in mmWave_24 and v in mmWave_24)):\n",
    "        G_cross_net[u][v][\"weight\"] = 1.0 / bandwidth\n",
    "    else:\n",
    "        G_cross_net[u][v][\"weight\"] = cost_diff / bandwidth\n",
    "G_tmp = {}\n",
    "for nd in G_cross_net.nodes():\n",
    "    G_tmp[nd] = dict(nx.shortest_path_length(G_cross_net, nd, weight=\"weight\"))\n",
    "adjDict[cost_diff] = G_tmp"
   ]
  },
  {
   "cell_type": "code",
   "execution_count": 21,
   "metadata": {},
   "outputs": [],
   "source": [
    "cost_diff = 1.8\n",
    "G_cross_net = copy.deepcopy(graph[\"cross-net\"])\n",
    "for u, v, _ in G_cross_net.edges(data=True):\n",
    "    if u in sub_1:\n",
    "        bandwidth = 1000.0\n",
    "    elif u in sub_6:\n",
    "        bandwidth = 2000.0\n",
    "    else:\n",
    "        bandwidth = 4000.0\n",
    "    if ((u in sub_1 and v in sub_1) or (u in sub_6 and v in sub_6)\n",
    "            or (u in mmWave_24 and v in mmWave_24)):\n",
    "        G_cross_net[u][v][\"weight\"] = 1.0 / bandwidth\n",
    "    else:\n",
    "        G_cross_net[u][v][\"weight\"] = cost_diff / bandwidth\n",
    "G_tmp = {}\n",
    "for nd in G_cross_net.nodes():\n",
    "    G_tmp[nd] = dict(nx.shortest_path_length(G_cross_net, nd, weight=\"weight\"))\n",
    "adjDict[cost_diff] = G_tmp"
   ]
  },
  {
   "cell_type": "code",
   "execution_count": 22,
   "metadata": {},
   "outputs": [],
   "source": [
    "cost_diff = 2.0\n",
    "G_cross_net = copy.deepcopy(graph[\"cross-net\"])\n",
    "for u, v, _ in G_cross_net.edges(data=True):\n",
    "    if u in sub_1:\n",
    "        bandwidth = 1000.0\n",
    "    elif u in sub_6:\n",
    "        bandwidth = 2000.0\n",
    "    else:\n",
    "        bandwidth = 4000.0\n",
    "    if ((u in sub_1 and v in sub_1) or (u in sub_6 and v in sub_6)\n",
    "            or (u in mmWave_24 and v in mmWave_24)):\n",
    "        G_cross_net[u][v][\"weight\"] = 1.0 / bandwidth\n",
    "    else:\n",
    "        G_cross_net[u][v][\"weight\"] = cost_diff / bandwidth\n",
    "G_tmp = {}\n",
    "for nd in G_cross_net.nodes():\n",
    "    G_tmp[nd] = dict(nx.shortest_path_length(G_cross_net, nd, weight=\"weight\"))\n",
    "adjDict[cost_diff] = G_tmp"
   ]
  },
  {
   "cell_type": "code",
   "execution_count": 24,
   "metadata": {},
   "outputs": [
    {
     "data": {
      "text/plain": [
       "[(30, 0),\n",
       " (89, 0.001),\n",
       " (52, 0.001),\n",
       " (57, 0.001),\n",
       " (93, 0.001),\n",
       " (53, 0.001),\n",
       " (1, 0.001),\n",
       " (56, 0.001),\n",
       " (12, 0.001),\n",
       " (38, 0.001),\n",
       " (76, 0.001),\n",
       " (28, 0.001),\n",
       " (22, 0.001),\n",
       " (98, 0.001),\n",
       " (84, 0.002),\n",
       " (116, 0.002),\n",
       " (50, 0.002),\n",
       " (86, 0.002)]"
      ]
     },
     "execution_count": 24,
     "metadata": {},
     "output_type": "execute_result"
    }
   ],
   "source": [
    "sorted(adjDict[1][30].items(), key=lambda x: x[1])"
   ]
  },
  {
   "cell_type": "code",
   "execution_count": 25,
   "metadata": {},
   "outputs": [
    {
     "data": {
      "text/plain": [
       "OrderedDict([(30, 0),\n",
       "             (89, 0.001),\n",
       "             (52, 0.001),\n",
       "             (57, 0.001),\n",
       "             (93, 0.001),\n",
       "             (53, 0.001),\n",
       "             (1, 0.001),\n",
       "             (56, 0.001),\n",
       "             (12, 0.001),\n",
       "             (38, 0.001),\n",
       "             (76, 0.001),\n",
       "             (28, 0.001),\n",
       "             (22, 0.001),\n",
       "             (98, 0.001),\n",
       "             (84, 0.002),\n",
       "             (116, 0.002),\n",
       "             (50, 0.002),\n",
       "             (86, 0.002)])"
      ]
     },
     "execution_count": 25,
     "metadata": {},
     "output_type": "execute_result"
    }
   ],
   "source": [
    "OrderedDict(sorted(adjDict[1][30].items(), key=lambda x: x[1]))"
   ]
  },
  {
   "cell_type": "code",
   "execution_count": 26,
   "metadata": {},
   "outputs": [
    {
     "name": "stdout",
     "output_type": "stream",
     "text": [
      "30\n",
      "89\n",
      "52\n",
      "57\n",
      "93\n",
      "53\n",
      "1\n",
      "56\n",
      "12\n",
      "38\n",
      "76\n",
      "28\n",
      "22\n",
      "98\n",
      "84\n",
      "116\n",
      "50\n",
      "86\n"
     ]
    }
   ],
   "source": [
    "for key in OrderedDict(sorted(adjDict[1][30].items(), key=lambda x: x[1])):\n",
    "    print(key)"
   ]
  },
  {
   "cell_type": "code",
   "execution_count": 27,
   "metadata": {},
   "outputs": [],
   "source": [
    "for k1 in adjDict:\n",
    "    for k2 in adjDict[k1]:\n",
    "        adjDict[k1][k2] = OrderedDict(sorted(adjDict[k1][k2].items(), key=lambda x: x[1]))"
   ]
  },
  {
   "cell_type": "code",
   "execution_count": 28,
   "metadata": {},
   "outputs": [
    {
     "name": "stdout",
     "output_type": "stream",
     "text": [
      "1 18\n",
      "6 36\n",
      "24 71\n",
      "1.2 125\n",
      "1.4 125\n",
      "1.6 125\n",
      "1.8 125\n",
      "2.0 125\n"
     ]
    }
   ],
   "source": [
    "for key in adjDict:\n",
    "    print(key, len(adjDict[key]))"
   ]
  },
  {
   "cell_type": "code",
   "execution_count": 29,
   "metadata": {},
   "outputs": [],
   "source": [
    "with open(r'outData/graph-2.pkl', 'wb') as file:\n",
    "    pickle.dump(adjDict, file)"
   ]
  },
  {
   "cell_type": "code",
   "execution_count": 30,
   "metadata": {},
   "outputs": [
    {
     "data": {
      "text/plain": [
       "collections.OrderedDict"
      ]
     },
     "execution_count": 30,
     "metadata": {},
     "output_type": "execute_result"
    }
   ],
   "source": [
    "type(adjDict[1.2][30])"
   ]
  },
  {
   "cell_type": "code",
   "execution_count": 31,
   "metadata": {},
   "outputs": [
    {
     "data": {
      "text/plain": [
       "0"
      ]
     },
     "execution_count": 31,
     "metadata": {},
     "output_type": "execute_result"
    }
   ],
   "source": [
    "adjDict[1.2][30][30]"
   ]
  },
  {
   "cell_type": "code",
   "execution_count": 5,
   "metadata": {},
   "outputs": [],
   "source": [
    "import pandas as pd\n",
    "\n",
    "res = pd.read_csv(\"res/3.csv\", sep='|')\n",
    "res.to_csv(\"res/3.csv\", index=False)"
   ]
  },
  {
   "cell_type": "code",
   "execution_count": 8,
   "metadata": {},
   "outputs": [
    {
     "name": "stdout",
     "output_type": "stream",
     "text": [
      "item = 1\n",
      "start = 0\n",
      "end = 6400\n",
      "item = 2\n",
      "start = 6400\n",
      "end = 12800\n",
      "item = 3\n",
      "start = 12800\n",
      "end = 19200\n",
      "item = 4\n",
      "start = 19200\n",
      "end = 25600\n",
      "item = 5\n",
      "start = 25600\n",
      "end = 32000\n",
      "item = 6\n",
      "start = 32000\n",
      "end = 38400\n",
      "item = 7\n",
      "start = 38400\n",
      "end = 44800\n",
      "item = 8\n",
      "start = 44800\n",
      "end = 51200\n",
      "item = 9\n",
      "start = 51200\n",
      "end = 57600\n",
      "item = 10\n",
      "start = 57600\n",
      "end = 64000\n",
      "item = 11\n",
      "start = 64000\n",
      "end = 70400\n",
      "item = 12\n",
      "start = 70400\n",
      "end = 76800\n",
      "item = 13\n",
      "start = 76800\n",
      "end = 83200\n",
      "item = 14\n",
      "start = 83200\n",
      "end = 89600\n",
      "item = 15\n",
      "start = 89600\n",
      "end = 96000\n",
      "item = 16\n",
      "start = 96000\n",
      "end = 102400\n",
      "item = 17\n",
      "start = 102400\n",
      "end = 108800\n",
      "item = 18\n",
      "start = 108800\n",
      "end = 115200\n",
      "item = 19\n",
      "start = 115200\n",
      "end = 121600\n",
      "item = 20\n",
      "start = 121600\n",
      "end = 128000\n",
      "item = 21\n",
      "start = 128000\n",
      "end = 134400\n",
      "item = 22\n",
      "start = 134400\n",
      "end = 140800\n",
      "item = 23\n",
      "start = 140800\n",
      "end = 147200\n",
      "item = 24\n",
      "start = 147200\n",
      "end = 153600\n",
      "item = 25\n",
      "start = 153600\n",
      "end = 160000\n",
      "item = 26\n",
      "start = 160000\n",
      "end = 166400\n",
      "item = 27\n",
      "start = 166400\n",
      "end = 172800\n",
      "item = 28\n",
      "start = 172800\n",
      "end = 179200\n",
      "item = 29\n",
      "start = 179200\n",
      "end = 185600\n",
      "item = 30\n",
      "start = 185600\n",
      "end = 192000\n",
      "item = 31\n",
      "start = 192000\n",
      "end = 198400\n",
      "item = 32\n",
      "start = 198400\n",
      "end = 204800\n",
      "item = 33\n",
      "start = 204800\n",
      "end = 211200\n",
      "item = 34\n",
      "start = 211200\n",
      "end = 217600\n",
      "item = 35\n",
      "start = 217600\n",
      "end = 224000\n",
      "item = 36\n",
      "start = 224000\n",
      "end = 230400\n",
      "item = 37\n",
      "start = 230400\n",
      "end = 236800\n",
      "item = 38\n",
      "start = 236800\n",
      "end = 243200\n",
      "item = 39\n",
      "start = 243200\n",
      "end = 249600\n",
      "item = 40\n",
      "start = 249600\n",
      "end = 256000\n"
     ]
    }
   ],
   "source": [
    "item = 1\n",
    "start = 0\n",
    "end = 6400\n",
    "for i in range(40):\n",
    "    print(\"item =\", item)\n",
    "    print(\"start =\", start)\n",
    "    print(\"end =\", end)\n",
    "    item += 1\n",
    "    start = end\n",
    "    end += 6400"
   ]
  }
 ],
 "metadata": {
  "kernelspec": {
   "display_name": "base",
   "language": "python",
   "name": "python3"
  },
  "language_info": {
   "codemirror_mode": {
    "name": "ipython",
    "version": 3
   },
   "file_extension": ".py",
   "mimetype": "text/x-python",
   "name": "python",
   "nbconvert_exporter": "python",
   "pygments_lexer": "ipython3",
   "version": "3.11.7"
  }
 },
 "nbformat": 4,
 "nbformat_minor": 2
}

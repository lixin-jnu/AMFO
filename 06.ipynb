{
 "cells": [
  {
   "cell_type": "code",
   "execution_count": 92,
   "metadata": {},
   "outputs": [],
   "source": [
    "import copy\n",
    "import pickle\n",
    "import numpy as np\n",
    "import networkx as nx\n",
    "from itertools import product\n",
    "from collections import OrderedDict"
   ]
  },
  {
   "cell_type": "code",
   "execution_count": 2,
   "metadata": {},
   "outputs": [],
   "source": [
    "lambda_rate_sp = [2, 4, 6, 8, 10]\n",
    "cost_diff_sp = [1.2, 1.4, 1.6, 1.8, 2.0]\n",
    "func_num_sp = [10, 20, 30, 40, 50]\n",
    "cpu_core_sp = [100, 200, 300, 400, 500]\n",
    "cache_capacity_sp = [256, 512, 768, 1024]\n",
    "soft_ddl_param_sp = [[0.1, 0.2], [0.2, 0.3], [0.3, 0.4], [0.4, 0.5]]\n",
    "\n",
    "node_selection_strategy_sp = [\n",
    "    \"NS_min_dis_own\",\n",
    "    \"NS_min_dis_all\",\n",
    "    \"NS_min_user\",\n",
    "    \"NS_max_node\",\n",
    "    \"NS_exist_func\",\n",
    "]\n",
    "path_selection_strategy_sp = [\"PS_min_dis\", \"PS_max_cache\", \"PS_max_cpu\"]\n",
    "task_sorting_strategy_sp = [\n",
    "    \"TS_exec_time_asc\",\n",
    "    \"TS_data_vol_asc\",\n",
    "    \"TS_exec_time_to_data_vol_ratio_asc\",\n",
    "    \"TS_closest_soft_ddl\",\n",
    "    \"TS_highest_response_ratio\",\n",
    "]\n",
    "\n",
    "combinations = list(\n",
    "    product(lambda_rate_sp, cost_diff_sp, func_num_sp, cpu_core_sp,\n",
    "            cache_capacity_sp, soft_ddl_param_sp, node_selection_strategy_sp,\n",
    "            path_selection_strategy_sp, task_sorting_strategy_sp))"
   ]
  },
  {
   "cell_type": "code",
   "execution_count": 3,
   "metadata": {},
   "outputs": [
    {
     "data": {
      "text/plain": [
       "750000"
      ]
     },
     "execution_count": 3,
     "metadata": {},
     "output_type": "execute_result"
    }
   ],
   "source": [
    "len(combinations)"
   ]
  },
  {
   "cell_type": "code",
   "execution_count": 4,
   "metadata": {},
   "outputs": [],
   "source": [
    "with open(r'outData/comm.pkl', 'wb') as file:\n",
    "    pickle.dump(combinations, file)"
   ]
  },
  {
   "cell_type": "code",
   "execution_count": 10,
   "metadata": {},
   "outputs": [],
   "source": [
    "# user.pkl\n",
    "# 用户Id -> [\n",
    "#            内网拓扑最近的边缘节点,\n",
    "#            全网拓扑最近的边缘节点,\n",
    "#            覆盖用户数最少的边缘节点,\n",
    "#            邻居节点数最多的边缘节点,\n",
    "#            以距离远近排序的边缘节点列表\n",
    "#           ]"
   ]
  },
  {
   "cell_type": "code",
   "execution_count": 17,
   "metadata": {},
   "outputs": [],
   "source": [
    "with open(r\"outData/user.pkl\", \"rb\") as file:\n",
    "    user = pickle.load(file)\n",
    "with open(r\"outData/node.pkl\", \"rb\") as file:\n",
    "    node = pickle.load(file)"
   ]
  },
  {
   "cell_type": "code",
   "execution_count": 12,
   "metadata": {},
   "outputs": [
    {
     "data": {
      "text/plain": [
       "array([[ 52,   1, 369],\n",
       "       [ 93,   1, 146],\n",
       "       [ 53,   1, 835],\n",
       "       [ 12,   1, 222],\n",
       "       [116,   1, 629],\n",
       "       [ 50,   1, 549],\n",
       "       [ 86,   1, 378],\n",
       "       [ 22,   1, 902],\n",
       "       [108,   6, 269],\n",
       "       [  0,   6,  67],\n",
       "       [ 92,   6,  63],\n",
       "       [115,   6, 356],\n",
       "       [ 21,   6, 430],\n",
       "       [ 23,  24, 209],\n",
       "       [ 87,  24, 147],\n",
       "       [ 27,  24, 246],\n",
       "       [ 34,  24, 167],\n",
       "       [109,  24, 246]])"
      ]
     },
     "execution_count": 12,
     "metadata": {},
     "output_type": "execute_result"
    }
   ],
   "source": [
    "user[0]"
   ]
  },
  {
   "cell_type": "code",
   "execution_count": 13,
   "metadata": {},
   "outputs": [
    {
     "data": {
      "text/plain": [
       "816"
      ]
     },
     "execution_count": 13,
     "metadata": {},
     "output_type": "execute_result"
    }
   ],
   "source": [
    "len(user)"
   ]
  },
  {
   "cell_type": "code",
   "execution_count": 18,
   "metadata": {},
   "outputs": [],
   "source": [
    "##################################\n",
    "# ---------节点选择策略---------- #\n",
    "##################################\n",
    "# 1.min_dis_own:选择距离最近的本服务提供商的基站\n",
    "def NS_min_dis_own(userId, funcId=-1):\n",
    "    serviceId = 1 if userId % 3 == 1 else (6 if userId % 3 == 2 else 24)\n",
    "    sortedNdLst = sorted(user[userId], key=lambda x: x[2])\n",
    "    for nd in sortedNdLst:\n",
    "        if nd[1] == serviceId:\n",
    "            return nd[0]\n",
    "\n",
    "# 2.min_dis_all:选择距离最近的基站\n",
    "def NS_min_dis_all(userId, funcId=-1):\n",
    "    return min(user[userId], key=lambda x: x[2])[0]\n",
    "\n",
    "# 3.min_user:选择覆盖用户数最少的基站\n",
    "def NS_min_user(userId, funcId=-1):\n",
    "    return min(user[userId], key=lambda x: node[x[0]][0])[0]\n",
    "\n",
    "# 4.max_node:选择邻居基站数最多的基站\n",
    "def NS_max_node(userId, funcId=-1):\n",
    "    return max(user[userId], key=lambda x: node[x[0]][1])[0]"
   ]
  },
  {
   "cell_type": "code",
   "execution_count": 26,
   "metadata": {},
   "outputs": [],
   "source": [
    "newUser={}\n",
    "for userId in user:\n",
    "    newUser[userId] = [NS_min_dis_own(userId), NS_min_dis_all(userId), NS_min_user(userId), NS_max_node(userId), [x[0] for x in sorted(user[userId], key=lambda x: x[2])]]"
   ]
  },
  {
   "cell_type": "code",
   "execution_count": 27,
   "metadata": {},
   "outputs": [
    {
     "data": {
      "text/plain": [
       "[87,\n",
       " 92,\n",
       " 87,\n",
       " 53,\n",
       " [92, 0, 93, 87, 34, 23, 12, 27, 109, 108, 115, 52, 86, 21, 50, 116, 53, 22]]"
      ]
     },
     "execution_count": 27,
     "metadata": {},
     "output_type": "execute_result"
    }
   ],
   "source": [
    "newUser[0]"
   ]
  },
  {
   "cell_type": "code",
   "execution_count": 31,
   "metadata": {},
   "outputs": [],
   "source": [
    "with open(r'outData/user-2.pkl', 'wb') as file:\n",
    "    pickle.dump(newUser, file)"
   ]
  },
  {
   "cell_type": "code",
   "execution_count": 34,
   "metadata": {},
   "outputs": [
    {
     "data": {
      "text/plain": [
       "816"
      ]
     },
     "execution_count": 34,
     "metadata": {},
     "output_type": "execute_result"
    }
   ],
   "source": [
    "len(newUser)"
   ]
  },
  {
   "cell_type": "code",
   "execution_count": 110,
   "metadata": {},
   "outputs": [],
   "source": [
    "with open(r\"outData/graph-1.pkl\", \"rb\") as file:\n",
    "    graph = pickle.load(file)"
   ]
  },
  {
   "cell_type": "code",
   "execution_count": 111,
   "metadata": {},
   "outputs": [
    {
     "data": {
      "text/plain": [
       "{'sub-1': <networkx.classes.digraph.DiGraph at 0x7f9bb410ff90>,\n",
       " 'sub-6': <networkx.classes.digraph.DiGraph at 0x7f9b72c2af10>,\n",
       " 'mmWave-24': <networkx.classes.digraph.DiGraph at 0x7f9b72c589d0>,\n",
       " 'cross-net': <networkx.classes.digraph.DiGraph at 0x7f9b73085610>}"
      ]
     },
     "execution_count": 111,
     "metadata": {},
     "output_type": "execute_result"
    }
   ],
   "source": [
    "graph"
   ]
  },
  {
   "cell_type": "code",
   "execution_count": 112,
   "metadata": {},
   "outputs": [],
   "source": [
    "G_sub_1 = copy.deepcopy(graph[\"sub-1\"])\n",
    "G_sub_6 = copy.deepcopy(graph[\"sub-6\"])\n",
    "G_mmWave_24 = copy.deepcopy(graph[\"mmWave-24\"])"
   ]
  },
  {
   "cell_type": "code",
   "execution_count": 113,
   "metadata": {},
   "outputs": [],
   "source": [
    "for u, v, _ in G_sub_1.edges(data=True):\n",
    "    G_sub_1[u][v][\"weight\"] = 1.0 / 1000.0\n",
    "\n",
    "for u, v, _ in G_sub_6.edges(data=True):\n",
    "    G_sub_6[u][v][\"weight\"] = 1.0 / 2000.0\n",
    "\n",
    "for u, v, _ in G_mmWave_24.edges(data=True):\n",
    "    G_mmWave_24[u][v][\"weight\"] = 1.0 / 4000.0"
   ]
  },
  {
   "cell_type": "code",
   "execution_count": 114,
   "metadata": {},
   "outputs": [],
   "source": [
    "adjDict = {}\n",
    "G_1 = {}\n",
    "G_6 = {}\n",
    "G_24 = {}\n",
    "for nd in G_sub_1.nodes():\n",
    "    G_1[nd] = dict(nx.shortest_path_length(G_sub_1, nd, weight=\"weight\"))\n",
    "for nd in G_sub_6.nodes():\n",
    "    G_6[nd] = dict(nx.shortest_path_length(G_sub_6, nd, weight=\"weight\"))\n",
    "for nd in G_mmWave_24.nodes():\n",
    "    G_24[nd] = dict(nx.shortest_path_length(G_mmWave_24, nd, weight=\"weight\"))\n",
    "adjDict[1] = G_1\n",
    "adjDict[6] = G_6\n",
    "adjDict[24] = G_24"
   ]
  },
  {
   "cell_type": "code",
   "execution_count": 115,
   "metadata": {},
   "outputs": [],
   "source": [
    "sub_1 = np.array(\n",
    "    [30, 89, 52, 57, 93, 53, 1, 56, 12, 116, 38, 50, 86, 76, 84, 28, 22, 98])\n",
    "sub_6 = np.array([\n",
    "    103, 54, 108, 45, 95, 36, 58, 14, 6, 11, 0, 96, 88, 25, 104, 113, 80, 81,\n",
    "    94, 7, 31, 92, 115, 39, 21, 72, 4, 9, 105, 85, 37, 63, 107, 17, 79, 26\n",
    "])\n",
    "mmWave_24 = np.array([\n",
    "    32, 55, 124, 118, 101, 3, 106, 97, 66, 19, 68, 13, 122, 70, 23, 59, 15, 47,\n",
    "    10, 87, 102, 65, 29, 2, 73, 5, 75, 114, 117, 77, 33, 35, 60, 8, 46, 111,\n",
    "    112, 71, 43, 61, 27, 51, 69, 121, 90, 16, 41, 64, 67, 34, 99, 120, 123, 62,\n",
    "    100, 74, 109, 42, 119, 48, 78, 24, 83, 110, 20, 44, 91, 40, 82, 18, 49\n",
    "])\n",
    "cost_diff = 1.2\n",
    "G_cross_net = copy.deepcopy(graph[\"cross-net\"])\n",
    "for u, v, _ in G_cross_net.edges(data=True):\n",
    "    if u in sub_1:\n",
    "        bandwidth = 1000.0\n",
    "    elif u in sub_6:\n",
    "        bandwidth = 2000.0\n",
    "    else:\n",
    "        bandwidth = 4000.0\n",
    "    if ((u in sub_1 and v in sub_1) or (u in sub_6 and v in sub_6)\n",
    "            or (u in mmWave_24 and v in mmWave_24)):\n",
    "        G_cross_net[u][v][\"weight\"] = 1.0 / bandwidth\n",
    "    else:\n",
    "        G_cross_net[u][v][\"weight\"] = cost_diff / bandwidth\n",
    "G_tmp = {}\n",
    "for nd in G_cross_net.nodes():\n",
    "    G_tmp[nd] = dict(nx.shortest_path_length(G_cross_net, nd, weight=\"weight\"))\n",
    "adjDict[cost_diff] = G_tmp"
   ]
  },
  {
   "cell_type": "code",
   "execution_count": 116,
   "metadata": {},
   "outputs": [],
   "source": [
    "cost_diff = 1.4\n",
    "G_cross_net = copy.deepcopy(graph[\"cross-net\"])\n",
    "for u, v, _ in G_cross_net.edges(data=True):\n",
    "    if u in sub_1:\n",
    "        bandwidth = 1000.0\n",
    "    elif u in sub_6:\n",
    "        bandwidth = 2000.0\n",
    "    else:\n",
    "        bandwidth = 4000.0\n",
    "    if ((u in sub_1 and v in sub_1) or (u in sub_6 and v in sub_6)\n",
    "            or (u in mmWave_24 and v in mmWave_24)):\n",
    "        G_cross_net[u][v][\"weight\"] = 1.0 / bandwidth\n",
    "    else:\n",
    "        G_cross_net[u][v][\"weight\"] = cost_diff / bandwidth\n",
    "G_tmp = {}\n",
    "for nd in G_cross_net.nodes():\n",
    "    G_tmp[nd] = dict(nx.shortest_path_length(G_cross_net, nd, weight=\"weight\"))\n",
    "adjDict[cost_diff] = G_tmp"
   ]
  },
  {
   "cell_type": "code",
   "execution_count": 117,
   "metadata": {},
   "outputs": [],
   "source": [
    "cost_diff = 1.6\n",
    "G_cross_net = copy.deepcopy(graph[\"cross-net\"])\n",
    "for u, v, _ in G_cross_net.edges(data=True):\n",
    "    if u in sub_1:\n",
    "        bandwidth = 1000.0\n",
    "    elif u in sub_6:\n",
    "        bandwidth = 2000.0\n",
    "    else:\n",
    "        bandwidth = 4000.0\n",
    "    if ((u in sub_1 and v in sub_1) or (u in sub_6 and v in sub_6)\n",
    "            or (u in mmWave_24 and v in mmWave_24)):\n",
    "        G_cross_net[u][v][\"weight\"] = 1.0 / bandwidth\n",
    "    else:\n",
    "        G_cross_net[u][v][\"weight\"] = cost_diff / bandwidth\n",
    "G_tmp = {}\n",
    "for nd in G_cross_net.nodes():\n",
    "    G_tmp[nd] = dict(nx.shortest_path_length(G_cross_net, nd, weight=\"weight\"))\n",
    "adjDict[cost_diff] = G_tmp"
   ]
  },
  {
   "cell_type": "code",
   "execution_count": 118,
   "metadata": {},
   "outputs": [],
   "source": [
    "cost_diff = 1.8\n",
    "G_cross_net = copy.deepcopy(graph[\"cross-net\"])\n",
    "for u, v, _ in G_cross_net.edges(data=True):\n",
    "    if u in sub_1:\n",
    "        bandwidth = 1000.0\n",
    "    elif u in sub_6:\n",
    "        bandwidth = 2000.0\n",
    "    else:\n",
    "        bandwidth = 4000.0\n",
    "    if ((u in sub_1 and v in sub_1) or (u in sub_6 and v in sub_6)\n",
    "            or (u in mmWave_24 and v in mmWave_24)):\n",
    "        G_cross_net[u][v][\"weight\"] = 1.0 / bandwidth\n",
    "    else:\n",
    "        G_cross_net[u][v][\"weight\"] = cost_diff / bandwidth\n",
    "G_tmp = {}\n",
    "for nd in G_cross_net.nodes():\n",
    "    G_tmp[nd] = dict(nx.shortest_path_length(G_cross_net, nd, weight=\"weight\"))\n",
    "adjDict[cost_diff] = G_tmp"
   ]
  },
  {
   "cell_type": "code",
   "execution_count": 119,
   "metadata": {},
   "outputs": [],
   "source": [
    "cost_diff = 2.0\n",
    "G_cross_net = copy.deepcopy(graph[\"cross-net\"])\n",
    "for u, v, _ in G_cross_net.edges(data=True):\n",
    "    if u in sub_1:\n",
    "        bandwidth = 1000.0\n",
    "    elif u in sub_6:\n",
    "        bandwidth = 2000.0\n",
    "    else:\n",
    "        bandwidth = 4000.0\n",
    "    if ((u in sub_1 and v in sub_1) or (u in sub_6 and v in sub_6)\n",
    "            or (u in mmWave_24 and v in mmWave_24)):\n",
    "        G_cross_net[u][v][\"weight\"] = 1.0 / bandwidth\n",
    "    else:\n",
    "        G_cross_net[u][v][\"weight\"] = cost_diff / bandwidth\n",
    "G_tmp = {}\n",
    "for nd in G_cross_net.nodes():\n",
    "    G_tmp[nd] = dict(nx.shortest_path_length(G_cross_net, nd, weight=\"weight\"))\n",
    "adjDict[cost_diff] = G_tmp"
   ]
  },
  {
   "cell_type": "code",
   "execution_count": 124,
   "metadata": {},
   "outputs": [],
   "source": [
    "for k1 in adjDict:\n",
    "    for k2 in adjDict[k1]:\n",
    "        adjDict[k1][k2] = OrderedDict(sorted(adjDict[k1][k2].items(), key=lambda x: x[1]))"
   ]
  },
  {
   "cell_type": "code",
   "execution_count": 125,
   "metadata": {},
   "outputs": [
    {
     "name": "stdout",
     "output_type": "stream",
     "text": [
      "1 18\n",
      "6 36\n",
      "24 71\n",
      "1.2 125\n",
      "1.4 125\n",
      "1.6 125\n",
      "1.8 125\n",
      "2.0 125\n"
     ]
    }
   ],
   "source": [
    "for key in adjDict:\n",
    "    print(key, len(adjDict[key]))"
   ]
  },
  {
   "cell_type": "code",
   "execution_count": 126,
   "metadata": {},
   "outputs": [],
   "source": [
    "with open(r'outData/graph-2.pkl', 'wb') as file:\n",
    "    pickle.dump(adjDict, file)"
   ]
  },
  {
   "cell_type": "code",
   "execution_count": 127,
   "metadata": {},
   "outputs": [
    {
     "data": {
      "text/plain": [
       "collections.OrderedDict"
      ]
     },
     "execution_count": 127,
     "metadata": {},
     "output_type": "execute_result"
    }
   ],
   "source": [
    "type(adjDict[1.2][30])"
   ]
  },
  {
   "cell_type": "code",
   "execution_count": 128,
   "metadata": {},
   "outputs": [
    {
     "data": {
      "text/plain": [
       "0"
      ]
     },
     "execution_count": 128,
     "metadata": {},
     "output_type": "execute_result"
    }
   ],
   "source": [
    "adjDict[1.2][30][30]"
   ]
  }
 ],
 "metadata": {
  "kernelspec": {
   "display_name": "base",
   "language": "python",
   "name": "python3"
  },
  "language_info": {
   "codemirror_mode": {
    "name": "ipython",
    "version": 3
   },
   "file_extension": ".py",
   "mimetype": "text/x-python",
   "name": "python",
   "nbconvert_exporter": "python",
   "pygments_lexer": "ipython3",
   "version": "3.11.7"
  }
 },
 "nbformat": 4,
 "nbformat_minor": 2
}

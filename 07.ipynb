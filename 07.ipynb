{
 "cells": [
  {
   "cell_type": "code",
   "execution_count": 4,
   "metadata": {},
   "outputs": [
    {
     "name": "stdout",
     "output_type": "stream",
     "text": [
      "nohup python AIHO-Plus-v2.0.py 1 0 200 &\n",
      "nohup python AIHO-Plus-v2.0.py 2 200 400 &\n",
      "nohup python AIHO-Plus-v2.0.py 3 400 600 &\n",
      "nohup python AIHO-Plus-v2.0.py 4 600 800 &\n",
      "nohup python AIHO-Plus-v2.0.py 5 800 1000 &\n",
      "nohup python AIHO-Plus-v2.0.py 6 1000 1200 &\n",
      "nohup python AIHO-Plus-v2.0.py 7 1200 1400 &\n",
      "nohup python AIHO-Plus-v2.0.py 8 1400 1600 &\n",
      "nohup python AIHO-Plus-v2.0.py 9 1600 1800 &\n",
      "nohup python AIHO-Plus-v2.0.py 10 1800 2000 &\n",
      "nohup python AIHO-Plus-v2.0.py 11 2000 2200 &\n",
      "nohup python AIHO-Plus-v2.0.py 12 2200 2400 &\n",
      "nohup python AIHO-Plus-v2.0.py 13 2400 2600 &\n",
      "nohup python AIHO-Plus-v2.0.py 14 2600 2800 &\n",
      "nohup python AIHO-Plus-v2.0.py 15 2800 3000 &\n",
      "nohup python AIHO-Plus-v2.0.py 16 3000 3200 &\n",
      "nohup python AIHO-Plus-v2.0.py 17 3200 3400 &\n",
      "nohup python AIHO-Plus-v2.0.py 18 3400 3600 &\n",
      "nohup python AIHO-Plus-v2.0.py 19 3600 3800 &\n",
      "nohup python AIHO-Plus-v2.0.py 20 3800 4000 &\n",
      "nohup python AIHO-Plus-v2.0.py 21 4000 4200 &\n",
      "nohup python AIHO-Plus-v2.0.py 22 4200 4400 &\n",
      "nohup python AIHO-Plus-v2.0.py 23 4400 4600 &\n",
      "nohup python AIHO-Plus-v2.0.py 24 4600 4800 &\n",
      "nohup python AIHO-Plus-v2.0.py 25 4800 5000 &\n",
      "nohup python AIHO-Plus-v2.0.py 26 5000 5200 &\n",
      "nohup python AIHO-Plus-v2.0.py 27 5200 5400 &\n",
      "nohup python AIHO-Plus-v2.0.py 28 5400 5600 &\n",
      "nohup python AIHO-Plus-v2.0.py 29 5600 5800 &\n",
      "nohup python AIHO-Plus-v2.0.py 30 5800 6000 &\n",
      "nohup python AIHO-Plus-v2.0.py 31 6000 6200 &\n",
      "nohup python AIHO-Plus-v2.0.py 32 6200 6400 &\n",
      "nohup python AIHO-Plus-v2.0.py 33 6400 6600 &\n",
      "nohup python AIHO-Plus-v2.0.py 34 6600 6800 &\n",
      "nohup python AIHO-Plus-v2.0.py 35 6800 7000 &\n",
      "nohup python AIHO-Plus-v2.0.py 36 7000 7200 &\n",
      "nohup python AIHO-Plus-v2.0.py 37 7200 7400 &\n",
      "nohup python AIHO-Plus-v2.0.py 38 7400 7600 &\n",
      "nohup python AIHO-Plus-v2.0.py 39 7600 7800 &\n",
      "nohup python AIHO-Plus-v2.0.py 40 7800 8000 &\n"
     ]
    }
   ],
   "source": [
    "def exec_command(shell_name):\n",
    "    item = 1\n",
    "    start = 0\n",
    "    end = 200\n",
    "    for i in range(40):\n",
    "        print(\"nohup python \" + shell_name + \" \" + str(item) + \" \" + str(start) +\n",
    "            \" \" + str(end) + \" &\")\n",
    "        item += 1\n",
    "        start = end\n",
    "        end += 200\n",
    "exec_command(\"AIHO-Plus-v2.0.py\")"
   ]
  },
  {
   "cell_type": "code",
   "execution_count": 16,
   "metadata": {},
   "outputs": [
    {
     "name": "stdout",
     "output_type": "stream",
     "text": [
      "res-1-aiho-plus/1.txt 200\n",
      "res-1-aiho-plus/2.txt 200\n",
      "res-1-aiho-plus/3.txt 200\n",
      "res-1-aiho-plus/4.txt 200\n",
      "res-1-aiho-plus/5.txt 200\n",
      "res-1-aiho-plus/6.txt 200\n",
      "res-1-aiho-plus/7.txt 200\n",
      "res-1-aiho-plus/8.txt 200\n",
      "res-1-aiho-plus/9.txt 200\n",
      "res-1-aiho-plus/10.txt 200\n",
      "res-1-aiho-plus/11.txt 200\n",
      "res-1-aiho-plus/12.txt 200\n",
      "res-1-aiho-plus/13.txt 200\n",
      "res-1-aiho-plus/14.txt 200\n",
      "res-1-aiho-plus/15.txt 200\n",
      "res-1-aiho-plus/16.txt 200\n",
      "res-1-aiho-plus/17.txt 200\n",
      "res-1-aiho-plus/18.txt 200\n",
      "res-1-aiho-plus/19.txt 200\n",
      "res-1-aiho-plus/20.txt 200\n",
      "res-1-aiho-plus/21.txt 200\n",
      "res-1-aiho-plus/22.txt 200\n",
      "res-1-aiho-plus/23.txt 200\n",
      "res-1-aiho-plus/24.txt 200\n",
      "res-1-aiho-plus/25.txt 200\n",
      "res-1-aiho-plus/26.txt 200\n",
      "res-1-aiho-plus/27.txt 200\n",
      "res-1-aiho-plus/28.txt 200\n",
      "res-1-aiho-plus/29.txt 200\n",
      "res-1-aiho-plus/30.txt 200\n",
      "res-1-aiho-plus/31.txt 200\n",
      "res-1-aiho-plus/32.txt 200\n",
      "res-1-aiho-plus/33.txt 200\n",
      "res-1-aiho-plus/34.txt 200\n",
      "res-1-aiho-plus/35.txt 200\n",
      "res-1-aiho-plus/36.txt 200\n",
      "res-1-aiho-plus/37.txt 200\n",
      "res-1-aiho-plus/38.txt 200\n",
      "res-1-aiho-plus/39.txt 200\n",
      "res-1-aiho-plus/40.txt 200\n"
     ]
    }
   ],
   "source": [
    "def watch_progress(folder_name):\n",
    "    for i in range(40):\n",
    "        with open(folder_name + \"/\" + str(i + 1) + \".txt\", \"r\") as file:\n",
    "            print(file.name, len(file.readlines()))\n",
    "watch_progress(\"res-1-aiho-plus\")"
   ]
  },
  {
   "cell_type": "code",
   "execution_count": 17,
   "metadata": {},
   "outputs": [],
   "source": [
    "import pandas as pd\n",
    "\n",
    "df_list = []\n",
    "for i in range(0, 40):\n",
    "    df = pd.read_csv(\"res-1-aiho-plus/\" + str(i + 1) + \".txt\", sep='|', header=None)\n",
    "    df_list.append(df)\n",
    "df = pd.concat(df_list, ignore_index=True)\n",
    "df.to_csv(\"res-1-aiho-plus/res.csv\", index=False)"
   ]
  }
 ],
 "metadata": {
  "kernelspec": {
   "display_name": "base",
   "language": "python",
   "name": "python3"
  },
  "language_info": {
   "codemirror_mode": {
    "name": "ipython",
    "version": 3
   },
   "file_extension": ".py",
   "mimetype": "text/x-python",
   "name": "python",
   "nbconvert_exporter": "python",
   "pygments_lexer": "ipython3",
   "version": "3.11.5"
  }
 },
 "nbformat": 4,
 "nbformat_minor": 2
}

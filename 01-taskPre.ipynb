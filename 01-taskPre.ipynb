{
 "cells": [
  {
   "cell_type": "code",
   "execution_count": 1,
   "metadata": {},
   "outputs": [],
   "source": [
    "import numpy as np\n",
    "import pandas as pd"
   ]
  },
  {
   "cell_type": "code",
   "execution_count": null,
   "metadata": {},
   "outputs": [],
   "source": [
    "'''\n",
    "### batch task\n",
    "+----------------------------------------------------------------------------------------+\n",
    "| task_name       | string     |       | task name. unique within a job                  |\n",
    "| instance_num    | bigint     |       | number of instances                             |\n",
    "| job_name        | string     |       | job name                                        |\n",
    "| task_type       | string     |       | task type                                       |\n",
    "| status          | string     |       | task status                                     |\n",
    "| start_time      | bigint     |       | start time of the task                          |\n",
    "| end_time        | bigint     |       | end of time the task                            |\n",
    "| plan_cpu        | double     |       | number of cpu needed by the task, 100 is 1 core |\n",
    "| plan_mem        | double     |       | normalized memorty size, [0, 100]               |\n",
    "+----------------------------------------------------------------------------------------+\n",
    "'''"
   ]
  },
  {
   "cell_type": "code",
   "execution_count": 2,
   "metadata": {},
   "outputs": [
    {
     "data": {
      "text/html": [
       "<div>\n",
       "<style scoped>\n",
       "    .dataframe tbody tr th:only-of-type {\n",
       "        vertical-align: middle;\n",
       "    }\n",
       "\n",
       "    .dataframe tbody tr th {\n",
       "        vertical-align: top;\n",
       "    }\n",
       "\n",
       "    .dataframe thead th {\n",
       "        text-align: right;\n",
       "    }\n",
       "</style>\n",
       "<table border=\"1\" class=\"dataframe\">\n",
       "  <thead>\n",
       "    <tr style=\"text-align: right;\">\n",
       "      <th></th>\n",
       "      <th>0</th>\n",
       "      <th>1</th>\n",
       "      <th>2</th>\n",
       "      <th>3</th>\n",
       "      <th>4</th>\n",
       "      <th>5</th>\n",
       "      <th>6</th>\n",
       "      <th>7</th>\n",
       "      <th>8</th>\n",
       "    </tr>\n",
       "  </thead>\n",
       "  <tbody>\n",
       "    <tr>\n",
       "      <th>0</th>\n",
       "      <td>M1</td>\n",
       "      <td>1.0</td>\n",
       "      <td>j_1</td>\n",
       "      <td>1</td>\n",
       "      <td>Terminated</td>\n",
       "      <td>419912</td>\n",
       "      <td>419912</td>\n",
       "      <td>100.0</td>\n",
       "      <td>0.20</td>\n",
       "    </tr>\n",
       "    <tr>\n",
       "      <th>1</th>\n",
       "      <td>R2_1</td>\n",
       "      <td>1.0</td>\n",
       "      <td>j_2</td>\n",
       "      <td>1</td>\n",
       "      <td>Terminated</td>\n",
       "      <td>87076</td>\n",
       "      <td>87086</td>\n",
       "      <td>50.0</td>\n",
       "      <td>0.20</td>\n",
       "    </tr>\n",
       "    <tr>\n",
       "      <th>2</th>\n",
       "      <td>M1</td>\n",
       "      <td>1.0</td>\n",
       "      <td>j_2</td>\n",
       "      <td>1</td>\n",
       "      <td>Terminated</td>\n",
       "      <td>87076</td>\n",
       "      <td>87083</td>\n",
       "      <td>50.0</td>\n",
       "      <td>0.20</td>\n",
       "    </tr>\n",
       "    <tr>\n",
       "      <th>3</th>\n",
       "      <td>R6_3</td>\n",
       "      <td>371.0</td>\n",
       "      <td>j_3</td>\n",
       "      <td>1</td>\n",
       "      <td>Terminated</td>\n",
       "      <td>157297</td>\n",
       "      <td>157325</td>\n",
       "      <td>100.0</td>\n",
       "      <td>0.49</td>\n",
       "    </tr>\n",
       "    <tr>\n",
       "      <th>4</th>\n",
       "      <td>J4_2_3</td>\n",
       "      <td>1111.0</td>\n",
       "      <td>j_3</td>\n",
       "      <td>1</td>\n",
       "      <td>Terminated</td>\n",
       "      <td>157329</td>\n",
       "      <td>157376</td>\n",
       "      <td>100.0</td>\n",
       "      <td>0.59</td>\n",
       "    </tr>\n",
       "  </tbody>\n",
       "</table>\n",
       "</div>"
      ],
      "text/plain": [
       "        0       1    2  3           4       5       6      7     8\n",
       "0      M1     1.0  j_1  1  Terminated  419912  419912  100.0  0.20\n",
       "1    R2_1     1.0  j_2  1  Terminated   87076   87086   50.0  0.20\n",
       "2      M1     1.0  j_2  1  Terminated   87076   87083   50.0  0.20\n",
       "3    R6_3   371.0  j_3  1  Terminated  157297  157325  100.0  0.49\n",
       "4  J4_2_3  1111.0  j_3  1  Terminated  157329  157376  100.0  0.59"
      ]
     },
     "execution_count": 2,
     "metadata": {},
     "output_type": "execute_result"
    }
   ],
   "source": [
    "data=pd.read_csv(r'data/batch_task.csv', header=None)\n",
    "data.head()"
   ]
  },
  {
   "cell_type": "code",
   "execution_count": 3,
   "metadata": {},
   "outputs": [
    {
     "data": {
      "text/plain": [
       "14295731"
      ]
     },
     "execution_count": 3,
     "metadata": {},
     "output_type": "execute_result"
    }
   ],
   "source": [
    "len(data)"
   ]
  },
  {
   "cell_type": "code",
   "execution_count": 4,
   "metadata": {},
   "outputs": [
    {
     "data": {
      "text/html": [
       "<div>\n",
       "<style scoped>\n",
       "    .dataframe tbody tr th:only-of-type {\n",
       "        vertical-align: middle;\n",
       "    }\n",
       "\n",
       "    .dataframe tbody tr th {\n",
       "        vertical-align: top;\n",
       "    }\n",
       "\n",
       "    .dataframe thead th {\n",
       "        text-align: right;\n",
       "    }\n",
       "</style>\n",
       "<table border=\"1\" class=\"dataframe\">\n",
       "  <thead>\n",
       "    <tr style=\"text-align: right;\">\n",
       "      <th></th>\n",
       "      <th>task_name</th>\n",
       "      <th>instance_name</th>\n",
       "      <th>job_name</th>\n",
       "      <th>task_type</th>\n",
       "      <th>status</th>\n",
       "      <th>start_time</th>\n",
       "      <th>end_time</th>\n",
       "      <th>plan_cpu</th>\n",
       "      <th>plan_mem</th>\n",
       "    </tr>\n",
       "  </thead>\n",
       "  <tbody>\n",
       "    <tr>\n",
       "      <th>0</th>\n",
       "      <td>M1</td>\n",
       "      <td>1.0</td>\n",
       "      <td>j_1</td>\n",
       "      <td>1</td>\n",
       "      <td>Terminated</td>\n",
       "      <td>419912</td>\n",
       "      <td>419912</td>\n",
       "      <td>100.0</td>\n",
       "      <td>0.20</td>\n",
       "    </tr>\n",
       "    <tr>\n",
       "      <th>1</th>\n",
       "      <td>R2_1</td>\n",
       "      <td>1.0</td>\n",
       "      <td>j_2</td>\n",
       "      <td>1</td>\n",
       "      <td>Terminated</td>\n",
       "      <td>87076</td>\n",
       "      <td>87086</td>\n",
       "      <td>50.0</td>\n",
       "      <td>0.20</td>\n",
       "    </tr>\n",
       "    <tr>\n",
       "      <th>2</th>\n",
       "      <td>M1</td>\n",
       "      <td>1.0</td>\n",
       "      <td>j_2</td>\n",
       "      <td>1</td>\n",
       "      <td>Terminated</td>\n",
       "      <td>87076</td>\n",
       "      <td>87083</td>\n",
       "      <td>50.0</td>\n",
       "      <td>0.20</td>\n",
       "    </tr>\n",
       "    <tr>\n",
       "      <th>3</th>\n",
       "      <td>R6_3</td>\n",
       "      <td>371.0</td>\n",
       "      <td>j_3</td>\n",
       "      <td>1</td>\n",
       "      <td>Terminated</td>\n",
       "      <td>157297</td>\n",
       "      <td>157325</td>\n",
       "      <td>100.0</td>\n",
       "      <td>0.49</td>\n",
       "    </tr>\n",
       "    <tr>\n",
       "      <th>4</th>\n",
       "      <td>J4_2_3</td>\n",
       "      <td>1111.0</td>\n",
       "      <td>j_3</td>\n",
       "      <td>1</td>\n",
       "      <td>Terminated</td>\n",
       "      <td>157329</td>\n",
       "      <td>157376</td>\n",
       "      <td>100.0</td>\n",
       "      <td>0.59</td>\n",
       "    </tr>\n",
       "  </tbody>\n",
       "</table>\n",
       "</div>"
      ],
      "text/plain": [
       "  task_name  instance_name job_name  task_type      status  start_time  \\\n",
       "0        M1            1.0      j_1          1  Terminated      419912   \n",
       "1      R2_1            1.0      j_2          1  Terminated       87076   \n",
       "2        M1            1.0      j_2          1  Terminated       87076   \n",
       "3      R6_3          371.0      j_3          1  Terminated      157297   \n",
       "4    J4_2_3         1111.0      j_3          1  Terminated      157329   \n",
       "\n",
       "   end_time  plan_cpu  plan_mem  \n",
       "0    419912     100.0      0.20  \n",
       "1     87086      50.0      0.20  \n",
       "2     87083      50.0      0.20  \n",
       "3    157325     100.0      0.49  \n",
       "4    157376     100.0      0.59  "
      ]
     },
     "execution_count": 4,
     "metadata": {},
     "output_type": "execute_result"
    }
   ],
   "source": [
    "data.columns=['task_name', 'instance_name', 'job_name', 'task_type', 'status', 'start_time', 'end_time', 'plan_cpu', 'plan_mem']\n",
    "data.head()"
   ]
  },
  {
   "cell_type": "code",
   "execution_count": 8,
   "metadata": {},
   "outputs": [
    {
     "data": {
      "text/html": [
       "<div>\n",
       "<style scoped>\n",
       "    .dataframe tbody tr th:only-of-type {\n",
       "        vertical-align: middle;\n",
       "    }\n",
       "\n",
       "    .dataframe tbody tr th {\n",
       "        vertical-align: top;\n",
       "    }\n",
       "\n",
       "    .dataframe thead th {\n",
       "        text-align: right;\n",
       "    }\n",
       "</style>\n",
       "<table border=\"1\" class=\"dataframe\">\n",
       "  <thead>\n",
       "    <tr style=\"text-align: right;\">\n",
       "      <th></th>\n",
       "      <th>task_name</th>\n",
       "      <th>instance_name</th>\n",
       "      <th>job_name</th>\n",
       "      <th>task_type</th>\n",
       "      <th>status</th>\n",
       "      <th>start_time</th>\n",
       "      <th>end_time</th>\n",
       "      <th>plan_cpu</th>\n",
       "      <th>plan_mem</th>\n",
       "    </tr>\n",
       "  </thead>\n",
       "  <tbody>\n",
       "    <tr>\n",
       "      <th>37</th>\n",
       "      <td>task_LTg0MTUwNTA5Mjg4MDkwNjIzMA==</td>\n",
       "      <td>1.0</td>\n",
       "      <td>j_17</td>\n",
       "      <td>10</td>\n",
       "      <td>Terminated</td>\n",
       "      <td>580371</td>\n",
       "      <td>580515</td>\n",
       "      <td>75.0</td>\n",
       "      <td>0.10</td>\n",
       "    </tr>\n",
       "    <tr>\n",
       "      <th>57</th>\n",
       "      <td>task_MTM0ODUxMTY0NjQzMTI1NTc1MQ==</td>\n",
       "      <td>1.0</td>\n",
       "      <td>j_39</td>\n",
       "      <td>6</td>\n",
       "      <td>Terminated</td>\n",
       "      <td>675912</td>\n",
       "      <td>675918</td>\n",
       "      <td>30.0</td>\n",
       "      <td>0.05</td>\n",
       "    </tr>\n",
       "    <tr>\n",
       "      <th>58</th>\n",
       "      <td>task_LTE4NjUxMjg5NDY5MDI4NjAzNzU=</td>\n",
       "      <td>1.0</td>\n",
       "      <td>j_39</td>\n",
       "      <td>6</td>\n",
       "      <td>Terminated</td>\n",
       "      <td>675912</td>\n",
       "      <td>675920</td>\n",
       "      <td>5.0</td>\n",
       "      <td>0.03</td>\n",
       "    </tr>\n",
       "    <tr>\n",
       "      <th>59</th>\n",
       "      <td>task_ODk2MzU0ODg1MTY5MTExNTUwMg==</td>\n",
       "      <td>1.0</td>\n",
       "      <td>j_39</td>\n",
       "      <td>6</td>\n",
       "      <td>Terminated</td>\n",
       "      <td>675912</td>\n",
       "      <td>675915</td>\n",
       "      <td>10.0</td>\n",
       "      <td>0.05</td>\n",
       "    </tr>\n",
       "    <tr>\n",
       "      <th>76</th>\n",
       "      <td>task_LTg0MTUwNTA5Mjg4MDkwNjIzMA==</td>\n",
       "      <td>1.0</td>\n",
       "      <td>j_69</td>\n",
       "      <td>10</td>\n",
       "      <td>Failed</td>\n",
       "      <td>243225</td>\n",
       "      <td>243228</td>\n",
       "      <td>100.0</td>\n",
       "      <td>0.10</td>\n",
       "    </tr>\n",
       "  </tbody>\n",
       "</table>\n",
       "</div>"
      ],
      "text/plain": [
       "                            task_name  instance_name job_name  task_type  \\\n",
       "37  task_LTg0MTUwNTA5Mjg4MDkwNjIzMA==            1.0     j_17         10   \n",
       "57  task_MTM0ODUxMTY0NjQzMTI1NTc1MQ==            1.0     j_39          6   \n",
       "58  task_LTE4NjUxMjg5NDY5MDI4NjAzNzU=            1.0     j_39          6   \n",
       "59  task_ODk2MzU0ODg1MTY5MTExNTUwMg==            1.0     j_39          6   \n",
       "76  task_LTg0MTUwNTA5Mjg4MDkwNjIzMA==            1.0     j_69         10   \n",
       "\n",
       "        status  start_time  end_time  plan_cpu  plan_mem  \n",
       "37  Terminated      580371    580515      75.0      0.10  \n",
       "57  Terminated      675912    675918      30.0      0.05  \n",
       "58  Terminated      675912    675920       5.0      0.03  \n",
       "59  Terminated      675912    675915      10.0      0.05  \n",
       "76      Failed      243225    243228     100.0      0.10  "
      ]
     },
     "execution_count": 8,
     "metadata": {},
     "output_type": "execute_result"
    }
   ],
   "source": [
    "'''\n",
    "In this version of cluster data, we include many types of batch workloads.\n",
    "Most of them are DAGs while some of them are not.\n",
    "For those tasks that are not DAGs, we name them using random characters, such as task_Nzg3ODAwNDgzMTAwNTc2NTQ2Mw== or task_Nzg3ODAwNDgzMTAwODc2NTQ3MQ==.\n",
    "These tasks can be treated as independent tasks.\n",
    "'''\n",
    "#1.筛选出所有的简单独立任务\n",
    "data=data[data['task_name'].str.contains(\"=\")]\n",
    "data.head()"
   ]
  },
  {
   "cell_type": "code",
   "execution_count": 9,
   "metadata": {},
   "outputs": [
    {
     "data": {
      "text/plain": [
       "2058697"
      ]
     },
     "execution_count": 9,
     "metadata": {},
     "output_type": "execute_result"
    }
   ],
   "source": [
    "len(data)"
   ]
  },
  {
   "cell_type": "code",
   "execution_count": 13,
   "metadata": {},
   "outputs": [],
   "source": [
    "data=data.dropna()"
   ]
  },
  {
   "cell_type": "code",
   "execution_count": 14,
   "metadata": {},
   "outputs": [
    {
     "data": {
      "text/plain": [
       "2013633"
      ]
     },
     "execution_count": 14,
     "metadata": {},
     "output_type": "execute_result"
    }
   ],
   "source": [
    "len(data)"
   ]
  },
  {
   "cell_type": "code",
   "execution_count": 15,
   "metadata": {},
   "outputs": [
    {
     "data": {
      "text/plain": [
       "task_type\n",
       "6     1181562\n",
       "5      378032\n",
       "10     322928\n",
       "8       53811\n",
       "3       34970\n",
       "11      20885\n",
       "12       8883\n",
       "9        6543\n",
       "4        5519\n",
       "7         488\n",
       "2          12\n",
       "Name: count, dtype: int64"
      ]
     },
     "execution_count": 15,
     "metadata": {},
     "output_type": "execute_result"
    }
   ],
   "source": [
    "data.task_type.value_counts()"
   ]
  },
  {
   "cell_type": "code",
   "execution_count": 16,
   "metadata": {},
   "outputs": [
    {
     "data": {
      "text/plain": [
       "status\n",
       "Terminated    1940994\n",
       "Failed          58875\n",
       "Running         13764\n",
       "Name: count, dtype: int64"
      ]
     },
     "execution_count": 16,
     "metadata": {},
     "output_type": "execute_result"
    }
   ],
   "source": [
    "data.status.value_counts()"
   ]
  },
  {
   "cell_type": "code",
   "execution_count": 17,
   "metadata": {},
   "outputs": [
    {
     "data": {
      "text/html": [
       "<div>\n",
       "<style scoped>\n",
       "    .dataframe tbody tr th:only-of-type {\n",
       "        vertical-align: middle;\n",
       "    }\n",
       "\n",
       "    .dataframe tbody tr th {\n",
       "        vertical-align: top;\n",
       "    }\n",
       "\n",
       "    .dataframe thead th {\n",
       "        text-align: right;\n",
       "    }\n",
       "</style>\n",
       "<table border=\"1\" class=\"dataframe\">\n",
       "  <thead>\n",
       "    <tr style=\"text-align: right;\">\n",
       "      <th></th>\n",
       "      <th>task_name</th>\n",
       "      <th>instance_name</th>\n",
       "      <th>job_name</th>\n",
       "      <th>task_type</th>\n",
       "      <th>status</th>\n",
       "      <th>start_time</th>\n",
       "      <th>end_time</th>\n",
       "      <th>plan_cpu</th>\n",
       "      <th>plan_mem</th>\n",
       "    </tr>\n",
       "  </thead>\n",
       "  <tbody>\n",
       "    <tr>\n",
       "      <th>37</th>\n",
       "      <td>task_LTg0MTUwNTA5Mjg4MDkwNjIzMA==</td>\n",
       "      <td>1.0</td>\n",
       "      <td>j_17</td>\n",
       "      <td>10</td>\n",
       "      <td>Terminated</td>\n",
       "      <td>580371</td>\n",
       "      <td>580515</td>\n",
       "      <td>75.0</td>\n",
       "      <td>0.10</td>\n",
       "    </tr>\n",
       "    <tr>\n",
       "      <th>57</th>\n",
       "      <td>task_MTM0ODUxMTY0NjQzMTI1NTc1MQ==</td>\n",
       "      <td>1.0</td>\n",
       "      <td>j_39</td>\n",
       "      <td>6</td>\n",
       "      <td>Terminated</td>\n",
       "      <td>675912</td>\n",
       "      <td>675918</td>\n",
       "      <td>30.0</td>\n",
       "      <td>0.05</td>\n",
       "    </tr>\n",
       "    <tr>\n",
       "      <th>58</th>\n",
       "      <td>task_LTE4NjUxMjg5NDY5MDI4NjAzNzU=</td>\n",
       "      <td>1.0</td>\n",
       "      <td>j_39</td>\n",
       "      <td>6</td>\n",
       "      <td>Terminated</td>\n",
       "      <td>675912</td>\n",
       "      <td>675920</td>\n",
       "      <td>5.0</td>\n",
       "      <td>0.03</td>\n",
       "    </tr>\n",
       "    <tr>\n",
       "      <th>59</th>\n",
       "      <td>task_ODk2MzU0ODg1MTY5MTExNTUwMg==</td>\n",
       "      <td>1.0</td>\n",
       "      <td>j_39</td>\n",
       "      <td>6</td>\n",
       "      <td>Terminated</td>\n",
       "      <td>675912</td>\n",
       "      <td>675915</td>\n",
       "      <td>10.0</td>\n",
       "      <td>0.05</td>\n",
       "    </tr>\n",
       "    <tr>\n",
       "      <th>104</th>\n",
       "      <td>task_ODk2MzU0ODg1MTY5MTExNTUwMg==</td>\n",
       "      <td>1.0</td>\n",
       "      <td>j_85</td>\n",
       "      <td>6</td>\n",
       "      <td>Terminated</td>\n",
       "      <td>474800</td>\n",
       "      <td>475186</td>\n",
       "      <td>10.0</td>\n",
       "      <td>0.05</td>\n",
       "    </tr>\n",
       "  </tbody>\n",
       "</table>\n",
       "</div>"
      ],
      "text/plain": [
       "                             task_name  instance_name job_name  task_type  \\\n",
       "37   task_LTg0MTUwNTA5Mjg4MDkwNjIzMA==            1.0     j_17         10   \n",
       "57   task_MTM0ODUxMTY0NjQzMTI1NTc1MQ==            1.0     j_39          6   \n",
       "58   task_LTE4NjUxMjg5NDY5MDI4NjAzNzU=            1.0     j_39          6   \n",
       "59   task_ODk2MzU0ODg1MTY5MTExNTUwMg==            1.0     j_39          6   \n",
       "104  task_ODk2MzU0ODg1MTY5MTExNTUwMg==            1.0     j_85          6   \n",
       "\n",
       "         status  start_time  end_time  plan_cpu  plan_mem  \n",
       "37   Terminated      580371    580515      75.0      0.10  \n",
       "57   Terminated      675912    675918      30.0      0.05  \n",
       "58   Terminated      675912    675920       5.0      0.03  \n",
       "59   Terminated      675912    675915      10.0      0.05  \n",
       "104  Terminated      474800    475186      10.0      0.05  "
      ]
     },
     "execution_count": 17,
     "metadata": {},
     "output_type": "execute_result"
    }
   ],
   "source": [
    "#2.筛选出所有顺利执行完毕的任务\n",
    "data=data[data['status']=='Terminated']\n",
    "data.head()"
   ]
  },
  {
   "cell_type": "code",
   "execution_count": 18,
   "metadata": {},
   "outputs": [
    {
     "data": {
      "text/plain": [
       "1940994"
      ]
     },
     "execution_count": 18,
     "metadata": {},
     "output_type": "execute_result"
    }
   ],
   "source": [
    "len(data)"
   ]
  },
  {
   "cell_type": "code",
   "execution_count": 19,
   "metadata": {},
   "outputs": [
    {
     "data": {
      "text/plain": [
       "status\n",
       "Terminated    1940994\n",
       "Name: count, dtype: int64"
      ]
     },
     "execution_count": 19,
     "metadata": {},
     "output_type": "execute_result"
    }
   ],
   "source": [
    "data.status.value_counts()"
   ]
  },
  {
   "cell_type": "code",
   "execution_count": 20,
   "metadata": {},
   "outputs": [
    {
     "data": {
      "text/html": [
       "<div>\n",
       "<style scoped>\n",
       "    .dataframe tbody tr th:only-of-type {\n",
       "        vertical-align: middle;\n",
       "    }\n",
       "\n",
       "    .dataframe tbody tr th {\n",
       "        vertical-align: top;\n",
       "    }\n",
       "\n",
       "    .dataframe thead th {\n",
       "        text-align: right;\n",
       "    }\n",
       "</style>\n",
       "<table border=\"1\" class=\"dataframe\">\n",
       "  <thead>\n",
       "    <tr style=\"text-align: right;\">\n",
       "      <th></th>\n",
       "      <th>task_name</th>\n",
       "      <th>instance_name</th>\n",
       "      <th>job_name</th>\n",
       "      <th>task_type</th>\n",
       "      <th>status</th>\n",
       "      <th>start_time</th>\n",
       "      <th>end_time</th>\n",
       "      <th>plan_cpu</th>\n",
       "      <th>plan_mem</th>\n",
       "      <th>exec_time</th>\n",
       "    </tr>\n",
       "  </thead>\n",
       "  <tbody>\n",
       "    <tr>\n",
       "      <th>37</th>\n",
       "      <td>task_LTg0MTUwNTA5Mjg4MDkwNjIzMA==</td>\n",
       "      <td>1.0</td>\n",
       "      <td>j_17</td>\n",
       "      <td>10</td>\n",
       "      <td>Terminated</td>\n",
       "      <td>580371</td>\n",
       "      <td>580515</td>\n",
       "      <td>75.0</td>\n",
       "      <td>0.10</td>\n",
       "      <td>144</td>\n",
       "    </tr>\n",
       "    <tr>\n",
       "      <th>57</th>\n",
       "      <td>task_MTM0ODUxMTY0NjQzMTI1NTc1MQ==</td>\n",
       "      <td>1.0</td>\n",
       "      <td>j_39</td>\n",
       "      <td>6</td>\n",
       "      <td>Terminated</td>\n",
       "      <td>675912</td>\n",
       "      <td>675918</td>\n",
       "      <td>30.0</td>\n",
       "      <td>0.05</td>\n",
       "      <td>6</td>\n",
       "    </tr>\n",
       "    <tr>\n",
       "      <th>58</th>\n",
       "      <td>task_LTE4NjUxMjg5NDY5MDI4NjAzNzU=</td>\n",
       "      <td>1.0</td>\n",
       "      <td>j_39</td>\n",
       "      <td>6</td>\n",
       "      <td>Terminated</td>\n",
       "      <td>675912</td>\n",
       "      <td>675920</td>\n",
       "      <td>5.0</td>\n",
       "      <td>0.03</td>\n",
       "      <td>8</td>\n",
       "    </tr>\n",
       "    <tr>\n",
       "      <th>59</th>\n",
       "      <td>task_ODk2MzU0ODg1MTY5MTExNTUwMg==</td>\n",
       "      <td>1.0</td>\n",
       "      <td>j_39</td>\n",
       "      <td>6</td>\n",
       "      <td>Terminated</td>\n",
       "      <td>675912</td>\n",
       "      <td>675915</td>\n",
       "      <td>10.0</td>\n",
       "      <td>0.05</td>\n",
       "      <td>3</td>\n",
       "    </tr>\n",
       "    <tr>\n",
       "      <th>104</th>\n",
       "      <td>task_ODk2MzU0ODg1MTY5MTExNTUwMg==</td>\n",
       "      <td>1.0</td>\n",
       "      <td>j_85</td>\n",
       "      <td>6</td>\n",
       "      <td>Terminated</td>\n",
       "      <td>474800</td>\n",
       "      <td>475186</td>\n",
       "      <td>10.0</td>\n",
       "      <td>0.05</td>\n",
       "      <td>386</td>\n",
       "    </tr>\n",
       "  </tbody>\n",
       "</table>\n",
       "</div>"
      ],
      "text/plain": [
       "                             task_name  instance_name job_name  task_type  \\\n",
       "37   task_LTg0MTUwNTA5Mjg4MDkwNjIzMA==            1.0     j_17         10   \n",
       "57   task_MTM0ODUxMTY0NjQzMTI1NTc1MQ==            1.0     j_39          6   \n",
       "58   task_LTE4NjUxMjg5NDY5MDI4NjAzNzU=            1.0     j_39          6   \n",
       "59   task_ODk2MzU0ODg1MTY5MTExNTUwMg==            1.0     j_39          6   \n",
       "104  task_ODk2MzU0ODg1MTY5MTExNTUwMg==            1.0     j_85          6   \n",
       "\n",
       "         status  start_time  end_time  plan_cpu  plan_mem  exec_time  \n",
       "37   Terminated      580371    580515      75.0      0.10        144  \n",
       "57   Terminated      675912    675918      30.0      0.05          6  \n",
       "58   Terminated      675912    675920       5.0      0.03          8  \n",
       "59   Terminated      675912    675915      10.0      0.05          3  \n",
       "104  Terminated      474800    475186      10.0      0.05        386  "
      ]
     },
     "execution_count": 20,
     "metadata": {},
     "output_type": "execute_result"
    }
   ],
   "source": [
    "#3.计算所有任务的执行时间\n",
    "data=data[data['end_time']-data['start_time']>0]\n",
    "data['exec_time']=data['end_time']-data['start_time']\n",
    "data.head()"
   ]
  },
  {
   "cell_type": "code",
   "execution_count": 28,
   "metadata": {},
   "outputs": [
    {
     "data": {
      "text/plain": [
       "1939135"
      ]
     },
     "execution_count": 28,
     "metadata": {},
     "output_type": "execute_result"
    }
   ],
   "source": [
    "len(data)"
   ]
  },
  {
   "cell_type": "code",
   "execution_count": 29,
   "metadata": {},
   "outputs": [
    {
     "data": {
      "text/html": [
       "<div>\n",
       "<style scoped>\n",
       "    .dataframe tbody tr th:only-of-type {\n",
       "        vertical-align: middle;\n",
       "    }\n",
       "\n",
       "    .dataframe tbody tr th {\n",
       "        vertical-align: top;\n",
       "    }\n",
       "\n",
       "    .dataframe thead th {\n",
       "        text-align: right;\n",
       "    }\n",
       "</style>\n",
       "<table border=\"1\" class=\"dataframe\">\n",
       "  <thead>\n",
       "    <tr style=\"text-align: right;\">\n",
       "      <th></th>\n",
       "      <th>task_name</th>\n",
       "      <th>instance_name</th>\n",
       "      <th>job_name</th>\n",
       "      <th>task_type</th>\n",
       "      <th>status</th>\n",
       "      <th>start_time</th>\n",
       "      <th>end_time</th>\n",
       "      <th>plan_cpu</th>\n",
       "      <th>plan_mem</th>\n",
       "      <th>exec_time</th>\n",
       "    </tr>\n",
       "  </thead>\n",
       "  <tbody>\n",
       "    <tr>\n",
       "      <th>37</th>\n",
       "      <td>task_LTg0MTUwNTA5Mjg4MDkwNjIzMA==</td>\n",
       "      <td>1.0</td>\n",
       "      <td>j_17</td>\n",
       "      <td>10</td>\n",
       "      <td>Terminated</td>\n",
       "      <td>580371</td>\n",
       "      <td>580515</td>\n",
       "      <td>0.75</td>\n",
       "      <td>0.10</td>\n",
       "      <td>144</td>\n",
       "    </tr>\n",
       "    <tr>\n",
       "      <th>57</th>\n",
       "      <td>task_MTM0ODUxMTY0NjQzMTI1NTc1MQ==</td>\n",
       "      <td>1.0</td>\n",
       "      <td>j_39</td>\n",
       "      <td>6</td>\n",
       "      <td>Terminated</td>\n",
       "      <td>675912</td>\n",
       "      <td>675918</td>\n",
       "      <td>0.30</td>\n",
       "      <td>0.05</td>\n",
       "      <td>6</td>\n",
       "    </tr>\n",
       "    <tr>\n",
       "      <th>58</th>\n",
       "      <td>task_LTE4NjUxMjg5NDY5MDI4NjAzNzU=</td>\n",
       "      <td>1.0</td>\n",
       "      <td>j_39</td>\n",
       "      <td>6</td>\n",
       "      <td>Terminated</td>\n",
       "      <td>675912</td>\n",
       "      <td>675920</td>\n",
       "      <td>0.05</td>\n",
       "      <td>0.03</td>\n",
       "      <td>8</td>\n",
       "    </tr>\n",
       "    <tr>\n",
       "      <th>59</th>\n",
       "      <td>task_ODk2MzU0ODg1MTY5MTExNTUwMg==</td>\n",
       "      <td>1.0</td>\n",
       "      <td>j_39</td>\n",
       "      <td>6</td>\n",
       "      <td>Terminated</td>\n",
       "      <td>675912</td>\n",
       "      <td>675915</td>\n",
       "      <td>0.10</td>\n",
       "      <td>0.05</td>\n",
       "      <td>3</td>\n",
       "    </tr>\n",
       "    <tr>\n",
       "      <th>104</th>\n",
       "      <td>task_ODk2MzU0ODg1MTY5MTExNTUwMg==</td>\n",
       "      <td>1.0</td>\n",
       "      <td>j_85</td>\n",
       "      <td>6</td>\n",
       "      <td>Terminated</td>\n",
       "      <td>474800</td>\n",
       "      <td>475186</td>\n",
       "      <td>0.10</td>\n",
       "      <td>0.05</td>\n",
       "      <td>386</td>\n",
       "    </tr>\n",
       "  </tbody>\n",
       "</table>\n",
       "</div>"
      ],
      "text/plain": [
       "                             task_name  instance_name job_name  task_type  \\\n",
       "37   task_LTg0MTUwNTA5Mjg4MDkwNjIzMA==            1.0     j_17         10   \n",
       "57   task_MTM0ODUxMTY0NjQzMTI1NTc1MQ==            1.0     j_39          6   \n",
       "58   task_LTE4NjUxMjg5NDY5MDI4NjAzNzU=            1.0     j_39          6   \n",
       "59   task_ODk2MzU0ODg1MTY5MTExNTUwMg==            1.0     j_39          6   \n",
       "104  task_ODk2MzU0ODg1MTY5MTExNTUwMg==            1.0     j_85          6   \n",
       "\n",
       "         status  start_time  end_time  plan_cpu  plan_mem  exec_time  \n",
       "37   Terminated      580371    580515      0.75      0.10        144  \n",
       "57   Terminated      675912    675918      0.30      0.05          6  \n",
       "58   Terminated      675912    675920      0.05      0.03          8  \n",
       "59   Terminated      675912    675915      0.10      0.05          3  \n",
       "104  Terminated      474800    475186      0.10      0.05        386  "
      ]
     },
     "execution_count": 29,
     "metadata": {},
     "output_type": "execute_result"
    }
   ],
   "source": [
    "data['plan_cpu']=data['plan_cpu']/100 #单位/个->0.5个cpu核心\n",
    "data.head()"
   ]
  },
  {
   "cell_type": "code",
   "execution_count": 30,
   "metadata": {},
   "outputs": [
    {
     "data": {
      "text/html": [
       "<div>\n",
       "<style scoped>\n",
       "    .dataframe tbody tr th:only-of-type {\n",
       "        vertical-align: middle;\n",
       "    }\n",
       "\n",
       "    .dataframe tbody tr th {\n",
       "        vertical-align: top;\n",
       "    }\n",
       "\n",
       "    .dataframe thead th {\n",
       "        text-align: right;\n",
       "    }\n",
       "</style>\n",
       "<table border=\"1\" class=\"dataframe\">\n",
       "  <thead>\n",
       "    <tr style=\"text-align: right;\">\n",
       "      <th></th>\n",
       "      <th>task_name</th>\n",
       "      <th>instance_name</th>\n",
       "      <th>job_name</th>\n",
       "      <th>task_type</th>\n",
       "      <th>status</th>\n",
       "      <th>start_time</th>\n",
       "      <th>end_time</th>\n",
       "      <th>plan_cpu</th>\n",
       "      <th>plan_mem</th>\n",
       "      <th>exec_time</th>\n",
       "    </tr>\n",
       "  </thead>\n",
       "  <tbody>\n",
       "    <tr>\n",
       "      <th>37</th>\n",
       "      <td>task_LTg0MTUwNTA5Mjg4MDkwNjIzMA==</td>\n",
       "      <td>1.0</td>\n",
       "      <td>j_17</td>\n",
       "      <td>10</td>\n",
       "      <td>Terminated</td>\n",
       "      <td>580371</td>\n",
       "      <td>580515</td>\n",
       "      <td>0.75</td>\n",
       "      <td>100.0</td>\n",
       "      <td>144</td>\n",
       "    </tr>\n",
       "    <tr>\n",
       "      <th>57</th>\n",
       "      <td>task_MTM0ODUxMTY0NjQzMTI1NTc1MQ==</td>\n",
       "      <td>1.0</td>\n",
       "      <td>j_39</td>\n",
       "      <td>6</td>\n",
       "      <td>Terminated</td>\n",
       "      <td>675912</td>\n",
       "      <td>675918</td>\n",
       "      <td>0.30</td>\n",
       "      <td>50.0</td>\n",
       "      <td>6</td>\n",
       "    </tr>\n",
       "    <tr>\n",
       "      <th>58</th>\n",
       "      <td>task_LTE4NjUxMjg5NDY5MDI4NjAzNzU=</td>\n",
       "      <td>1.0</td>\n",
       "      <td>j_39</td>\n",
       "      <td>6</td>\n",
       "      <td>Terminated</td>\n",
       "      <td>675912</td>\n",
       "      <td>675920</td>\n",
       "      <td>0.05</td>\n",
       "      <td>30.0</td>\n",
       "      <td>8</td>\n",
       "    </tr>\n",
       "    <tr>\n",
       "      <th>59</th>\n",
       "      <td>task_ODk2MzU0ODg1MTY5MTExNTUwMg==</td>\n",
       "      <td>1.0</td>\n",
       "      <td>j_39</td>\n",
       "      <td>6</td>\n",
       "      <td>Terminated</td>\n",
       "      <td>675912</td>\n",
       "      <td>675915</td>\n",
       "      <td>0.10</td>\n",
       "      <td>50.0</td>\n",
       "      <td>3</td>\n",
       "    </tr>\n",
       "    <tr>\n",
       "      <th>104</th>\n",
       "      <td>task_ODk2MzU0ODg1MTY5MTExNTUwMg==</td>\n",
       "      <td>1.0</td>\n",
       "      <td>j_85</td>\n",
       "      <td>6</td>\n",
       "      <td>Terminated</td>\n",
       "      <td>474800</td>\n",
       "      <td>475186</td>\n",
       "      <td>0.10</td>\n",
       "      <td>50.0</td>\n",
       "      <td>386</td>\n",
       "    </tr>\n",
       "  </tbody>\n",
       "</table>\n",
       "</div>"
      ],
      "text/plain": [
       "                             task_name  instance_name job_name  task_type  \\\n",
       "37   task_LTg0MTUwNTA5Mjg4MDkwNjIzMA==            1.0     j_17         10   \n",
       "57   task_MTM0ODUxMTY0NjQzMTI1NTc1MQ==            1.0     j_39          6   \n",
       "58   task_LTE4NjUxMjg5NDY5MDI4NjAzNzU=            1.0     j_39          6   \n",
       "59   task_ODk2MzU0ODg1MTY5MTExNTUwMg==            1.0     j_39          6   \n",
       "104  task_ODk2MzU0ODg1MTY5MTExNTUwMg==            1.0     j_85          6   \n",
       "\n",
       "         status  start_time  end_time  plan_cpu  plan_mem  exec_time  \n",
       "37   Terminated      580371    580515      0.75     100.0        144  \n",
       "57   Terminated      675912    675918      0.30      50.0          6  \n",
       "58   Terminated      675912    675920      0.05      30.0          8  \n",
       "59   Terminated      675912    675915      0.10      50.0          3  \n",
       "104  Terminated      474800    475186      0.10      50.0        386  "
      ]
     },
     "execution_count": 30,
     "metadata": {},
     "output_type": "execute_result"
    }
   ],
   "source": [
    "data['plan_mem']=data['plan_mem']*1000 #单位Mb\n",
    "data.head()"
   ]
  },
  {
   "cell_type": "code",
   "execution_count": 35,
   "metadata": {},
   "outputs": [
    {
     "data": {
      "text/html": [
       "<div>\n",
       "<style scoped>\n",
       "    .dataframe tbody tr th:only-of-type {\n",
       "        vertical-align: middle;\n",
       "    }\n",
       "\n",
       "    .dataframe tbody tr th {\n",
       "        vertical-align: top;\n",
       "    }\n",
       "\n",
       "    .dataframe thead th {\n",
       "        text-align: right;\n",
       "    }\n",
       "</style>\n",
       "<table border=\"1\" class=\"dataframe\">\n",
       "  <thead>\n",
       "    <tr style=\"text-align: right;\">\n",
       "      <th></th>\n",
       "      <th>exec_time</th>\n",
       "      <th>plan_mem</th>\n",
       "      <th>instance_name</th>\n",
       "      <th>plan_cpu</th>\n",
       "    </tr>\n",
       "  </thead>\n",
       "  <tbody>\n",
       "    <tr>\n",
       "      <th>37</th>\n",
       "      <td>144</td>\n",
       "      <td>100.0</td>\n",
       "      <td>1.0</td>\n",
       "      <td>0.75</td>\n",
       "    </tr>\n",
       "    <tr>\n",
       "      <th>57</th>\n",
       "      <td>6</td>\n",
       "      <td>50.0</td>\n",
       "      <td>1.0</td>\n",
       "      <td>0.30</td>\n",
       "    </tr>\n",
       "    <tr>\n",
       "      <th>58</th>\n",
       "      <td>8</td>\n",
       "      <td>30.0</td>\n",
       "      <td>1.0</td>\n",
       "      <td>0.05</td>\n",
       "    </tr>\n",
       "    <tr>\n",
       "      <th>59</th>\n",
       "      <td>3</td>\n",
       "      <td>50.0</td>\n",
       "      <td>1.0</td>\n",
       "      <td>0.10</td>\n",
       "    </tr>\n",
       "    <tr>\n",
       "      <th>104</th>\n",
       "      <td>386</td>\n",
       "      <td>50.0</td>\n",
       "      <td>1.0</td>\n",
       "      <td>0.10</td>\n",
       "    </tr>\n",
       "  </tbody>\n",
       "</table>\n",
       "</div>"
      ],
      "text/plain": [
       "     exec_time  plan_mem  instance_name  plan_cpu\n",
       "37         144     100.0            1.0      0.75\n",
       "57           6      50.0            1.0      0.30\n",
       "58           8      30.0            1.0      0.05\n",
       "59           3      50.0            1.0      0.10\n",
       "104        386      50.0            1.0      0.10"
      ]
     },
     "execution_count": 35,
     "metadata": {},
     "output_type": "execute_result"
    }
   ],
   "source": [
    "data=data[['exec_time', 'plan_mem', 'instance_name', 'plan_cpu']]\n",
    "data.head()"
   ]
  },
  {
   "cell_type": "code",
   "execution_count": 37,
   "metadata": {},
   "outputs": [
    {
     "name": "stderr",
     "output_type": "stream",
     "text": [
      "/tmp/ipykernel_3419089/3797274944.py:1: SettingWithCopyWarning: \n",
      "A value is trying to be set on a copy of a slice from a DataFrame\n",
      "\n",
      "See the caveats in the documentation: https://pandas.pydata.org/pandas-docs/stable/user_guide/indexing.html#returning-a-view-versus-a-copy\n",
      "  data.rename(columns={'instance_name':'instance_num'}, inplace=True)\n"
     ]
    },
    {
     "data": {
      "text/html": [
       "<div>\n",
       "<style scoped>\n",
       "    .dataframe tbody tr th:only-of-type {\n",
       "        vertical-align: middle;\n",
       "    }\n",
       "\n",
       "    .dataframe tbody tr th {\n",
       "        vertical-align: top;\n",
       "    }\n",
       "\n",
       "    .dataframe thead th {\n",
       "        text-align: right;\n",
       "    }\n",
       "</style>\n",
       "<table border=\"1\" class=\"dataframe\">\n",
       "  <thead>\n",
       "    <tr style=\"text-align: right;\">\n",
       "      <th></th>\n",
       "      <th>exec_time</th>\n",
       "      <th>plan_mem</th>\n",
       "      <th>instance_num</th>\n",
       "      <th>plan_cpu</th>\n",
       "    </tr>\n",
       "  </thead>\n",
       "  <tbody>\n",
       "    <tr>\n",
       "      <th>37</th>\n",
       "      <td>144</td>\n",
       "      <td>100.0</td>\n",
       "      <td>1.0</td>\n",
       "      <td>0.75</td>\n",
       "    </tr>\n",
       "    <tr>\n",
       "      <th>57</th>\n",
       "      <td>6</td>\n",
       "      <td>50.0</td>\n",
       "      <td>1.0</td>\n",
       "      <td>0.30</td>\n",
       "    </tr>\n",
       "    <tr>\n",
       "      <th>58</th>\n",
       "      <td>8</td>\n",
       "      <td>30.0</td>\n",
       "      <td>1.0</td>\n",
       "      <td>0.05</td>\n",
       "    </tr>\n",
       "    <tr>\n",
       "      <th>59</th>\n",
       "      <td>3</td>\n",
       "      <td>50.0</td>\n",
       "      <td>1.0</td>\n",
       "      <td>0.10</td>\n",
       "    </tr>\n",
       "    <tr>\n",
       "      <th>104</th>\n",
       "      <td>386</td>\n",
       "      <td>50.0</td>\n",
       "      <td>1.0</td>\n",
       "      <td>0.10</td>\n",
       "    </tr>\n",
       "  </tbody>\n",
       "</table>\n",
       "</div>"
      ],
      "text/plain": [
       "     exec_time  plan_mem  instance_num  plan_cpu\n",
       "37         144     100.0           1.0      0.75\n",
       "57           6      50.0           1.0      0.30\n",
       "58           8      30.0           1.0      0.05\n",
       "59           3      50.0           1.0      0.10\n",
       "104        386      50.0           1.0      0.10"
      ]
     },
     "execution_count": 37,
     "metadata": {},
     "output_type": "execute_result"
    }
   ],
   "source": [
    "data.rename(columns={'instance_name':'instance_num'}, inplace=True)\n",
    "data.head()"
   ]
  },
  {
   "cell_type": "code",
   "execution_count": 40,
   "metadata": {},
   "outputs": [
    {
     "data": {
      "text/html": [
       "<div>\n",
       "<style scoped>\n",
       "    .dataframe tbody tr th:only-of-type {\n",
       "        vertical-align: middle;\n",
       "    }\n",
       "\n",
       "    .dataframe tbody tr th {\n",
       "        vertical-align: top;\n",
       "    }\n",
       "\n",
       "    .dataframe thead th {\n",
       "        text-align: right;\n",
       "    }\n",
       "</style>\n",
       "<table border=\"1\" class=\"dataframe\">\n",
       "  <thead>\n",
       "    <tr style=\"text-align: right;\">\n",
       "      <th></th>\n",
       "      <th>exec_time</th>\n",
       "      <th>plan_mem</th>\n",
       "      <th>instance_num</th>\n",
       "      <th>plan_cpu</th>\n",
       "    </tr>\n",
       "  </thead>\n",
       "  <tbody>\n",
       "    <tr>\n",
       "      <th>0</th>\n",
       "      <td>144</td>\n",
       "      <td>100.0</td>\n",
       "      <td>1.0</td>\n",
       "      <td>0.75</td>\n",
       "    </tr>\n",
       "    <tr>\n",
       "      <th>1</th>\n",
       "      <td>6</td>\n",
       "      <td>50.0</td>\n",
       "      <td>1.0</td>\n",
       "      <td>0.30</td>\n",
       "    </tr>\n",
       "    <tr>\n",
       "      <th>2</th>\n",
       "      <td>8</td>\n",
       "      <td>30.0</td>\n",
       "      <td>1.0</td>\n",
       "      <td>0.05</td>\n",
       "    </tr>\n",
       "    <tr>\n",
       "      <th>3</th>\n",
       "      <td>3</td>\n",
       "      <td>50.0</td>\n",
       "      <td>1.0</td>\n",
       "      <td>0.10</td>\n",
       "    </tr>\n",
       "    <tr>\n",
       "      <th>4</th>\n",
       "      <td>386</td>\n",
       "      <td>50.0</td>\n",
       "      <td>1.0</td>\n",
       "      <td>0.10</td>\n",
       "    </tr>\n",
       "  </tbody>\n",
       "</table>\n",
       "</div>"
      ],
      "text/plain": [
       "   exec_time  plan_mem  instance_num  plan_cpu\n",
       "0        144     100.0           1.0      0.75\n",
       "1          6      50.0           1.0      0.30\n",
       "2          8      30.0           1.0      0.05\n",
       "3          3      50.0           1.0      0.10\n",
       "4        386      50.0           1.0      0.10"
      ]
     },
     "execution_count": 40,
     "metadata": {},
     "output_type": "execute_result"
    }
   ],
   "source": [
    "data.reset_index(drop=True, inplace=True)\n",
    "data.head()"
   ]
  },
  {
   "cell_type": "code",
   "execution_count": 52,
   "metadata": {},
   "outputs": [
    {
     "data": {
      "text/plain": [
       "1939135"
      ]
     },
     "execution_count": 52,
     "metadata": {},
     "output_type": "execute_result"
    }
   ],
   "source": [
    "len(data)"
   ]
  },
  {
   "cell_type": "code",
   "execution_count": 43,
   "metadata": {},
   "outputs": [],
   "source": [
    "data.exec_time.value_counts().sort_index().to_csv(\"temp/task_exec_time.csv\")\n",
    "data.plan_mem.value_counts().sort_index().to_csv(\"temp/task_plan_mem.csv\")\n",
    "data.plan_cpu.value_counts().sort_index().to_csv(\"temp/task_plan_cpu.csv\")\n",
    "data.instance_num.value_counts().sort_index().to_csv(\"temp/task_instance_num.csv\")"
   ]
  },
  {
   "cell_type": "code",
   "execution_count": 44,
   "metadata": {},
   "outputs": [],
   "source": [
    "data.to_pickle(\"temp/data-v1.0.pkl\")"
   ]
  },
  {
   "cell_type": "code",
   "execution_count": 45,
   "metadata": {},
   "outputs": [],
   "source": [
    "data.to_csv(\"temp/data-v1.0.csv\")"
   ]
  },
  {
   "cell_type": "code",
   "execution_count": 51,
   "metadata": {},
   "outputs": [
    {
     "data": {
      "text/html": [
       "<div>\n",
       "<style scoped>\n",
       "    .dataframe tbody tr th:only-of-type {\n",
       "        vertical-align: middle;\n",
       "    }\n",
       "\n",
       "    .dataframe tbody tr th {\n",
       "        vertical-align: top;\n",
       "    }\n",
       "\n",
       "    .dataframe thead th {\n",
       "        text-align: right;\n",
       "    }\n",
       "</style>\n",
       "<table border=\"1\" class=\"dataframe\">\n",
       "  <thead>\n",
       "    <tr style=\"text-align: right;\">\n",
       "      <th></th>\n",
       "      <th>exec_time</th>\n",
       "      <th>plan_mem</th>\n",
       "      <th>instance_num</th>\n",
       "      <th>plan_cpu</th>\n",
       "    </tr>\n",
       "  </thead>\n",
       "  <tbody>\n",
       "    <tr>\n",
       "      <th>0</th>\n",
       "      <td>144</td>\n",
       "      <td>100.0</td>\n",
       "      <td>1.0</td>\n",
       "      <td>0.75</td>\n",
       "    </tr>\n",
       "    <tr>\n",
       "      <th>1</th>\n",
       "      <td>6</td>\n",
       "      <td>50.0</td>\n",
       "      <td>1.0</td>\n",
       "      <td>0.30</td>\n",
       "    </tr>\n",
       "    <tr>\n",
       "      <th>2</th>\n",
       "      <td>8</td>\n",
       "      <td>30.0</td>\n",
       "      <td>1.0</td>\n",
       "      <td>0.05</td>\n",
       "    </tr>\n",
       "    <tr>\n",
       "      <th>3</th>\n",
       "      <td>3</td>\n",
       "      <td>50.0</td>\n",
       "      <td>1.0</td>\n",
       "      <td>0.10</td>\n",
       "    </tr>\n",
       "    <tr>\n",
       "      <th>4</th>\n",
       "      <td>386</td>\n",
       "      <td>50.0</td>\n",
       "      <td>1.0</td>\n",
       "      <td>0.10</td>\n",
       "    </tr>\n",
       "  </tbody>\n",
       "</table>\n",
       "</div>"
      ],
      "text/plain": [
       "   exec_time  plan_mem  instance_num  plan_cpu\n",
       "0        144     100.0           1.0      0.75\n",
       "1          6      50.0           1.0      0.30\n",
       "2          8      30.0           1.0      0.05\n",
       "3          3      50.0           1.0      0.10\n",
       "4        386      50.0           1.0      0.10"
      ]
     },
     "execution_count": 51,
     "metadata": {},
     "output_type": "execute_result"
    }
   ],
   "source": [
    "data=pd.read_pickle(r\"temp/data-v1.0.pkl\")\n",
    "data.head()"
   ]
  },
  {
   "cell_type": "code",
   "execution_count": 17,
   "metadata": {},
   "outputs": [
    {
     "data": {
      "text/plain": [
       "233.25271113150967"
      ]
     },
     "execution_count": 17,
     "metadata": {},
     "output_type": "execute_result"
    }
   ],
   "source": [
    "data.exec_time.mean()"
   ]
  },
  {
   "cell_type": "code",
   "execution_count": 18,
   "metadata": {},
   "outputs": [
    {
     "data": {
      "text/plain": [
       "39.0"
      ]
     },
     "execution_count": 18,
     "metadata": {},
     "output_type": "execute_result"
    }
   ],
   "source": [
    "data.exec_time.median()"
   ]
  },
  {
   "cell_type": "code",
   "execution_count": 19,
   "metadata": {},
   "outputs": [
    {
     "data": {
      "text/plain": [
       "20.442107950194288"
      ]
     },
     "execution_count": 19,
     "metadata": {},
     "output_type": "execute_result"
    }
   ],
   "source": [
    "data.instance_num.mean()"
   ]
  },
  {
   "cell_type": "code",
   "execution_count": 20,
   "metadata": {},
   "outputs": [
    {
     "data": {
      "text/plain": [
       "1.0"
      ]
     },
     "execution_count": 20,
     "metadata": {},
     "output_type": "execute_result"
    }
   ],
   "source": [
    "data.instance_num.median()"
   ]
  },
  {
   "cell_type": "code",
   "execution_count": 21,
   "metadata": {},
   "outputs": [
    {
     "data": {
      "text/plain": [
       "6.0"
      ]
     },
     "execution_count": 21,
     "metadata": {},
     "output_type": "execute_result"
    }
   ],
   "source": [
    "data.instance_num.quantile(0.9)"
   ]
  },
  {
   "cell_type": "code",
   "execution_count": 23,
   "metadata": {},
   "outputs": [
    {
     "data": {
      "text/plain": [
       "plan_mem\n",
       "50.0      792315\n",
       "30.0      378385\n",
       "1720.0    363815\n",
       "100.0     276758\n",
       "590.0      42159\n",
       "390.0      30259\n",
       "190.0      10371\n",
       "3440.0      5969\n",
       "1530.0      5949\n",
       "2580.0      4510\n",
       "200.0       2927\n",
       "960.0       2913\n",
       "790.0       2477\n",
       "210.0       2420\n",
       "370.0       2233\n",
       "160.0       2141\n",
       "770.0       1753\n",
       "1340.0      1169\n",
       "780.0       1048\n",
       "80.0         772\n",
       "Name: count, dtype: int64"
      ]
     },
     "execution_count": 23,
     "metadata": {},
     "output_type": "execute_result"
    }
   ],
   "source": [
    "data.plan_mem.value_counts().head(20)"
   ]
  },
  {
   "cell_type": "code",
   "execution_count": 53,
   "metadata": {},
   "outputs": [
    {
     "data": {
      "text/html": [
       "<div>\n",
       "<style scoped>\n",
       "    .dataframe tbody tr th:only-of-type {\n",
       "        vertical-align: middle;\n",
       "    }\n",
       "\n",
       "    .dataframe tbody tr th {\n",
       "        vertical-align: top;\n",
       "    }\n",
       "\n",
       "    .dataframe thead th {\n",
       "        text-align: right;\n",
       "    }\n",
       "</style>\n",
       "<table border=\"1\" class=\"dataframe\">\n",
       "  <thead>\n",
       "    <tr style=\"text-align: right;\">\n",
       "      <th></th>\n",
       "      <th>exec_time</th>\n",
       "      <th>plan_mem</th>\n",
       "      <th>instance_num</th>\n",
       "      <th>plan_cpu</th>\n",
       "    </tr>\n",
       "  </thead>\n",
       "  <tbody>\n",
       "    <tr>\n",
       "      <th>1</th>\n",
       "      <td>6</td>\n",
       "      <td>50.0</td>\n",
       "      <td>1.0</td>\n",
       "      <td>0.30</td>\n",
       "    </tr>\n",
       "    <tr>\n",
       "      <th>2</th>\n",
       "      <td>8</td>\n",
       "      <td>30.0</td>\n",
       "      <td>1.0</td>\n",
       "      <td>0.05</td>\n",
       "    </tr>\n",
       "    <tr>\n",
       "      <th>3</th>\n",
       "      <td>3</td>\n",
       "      <td>50.0</td>\n",
       "      <td>1.0</td>\n",
       "      <td>0.10</td>\n",
       "    </tr>\n",
       "    <tr>\n",
       "      <th>6</th>\n",
       "      <td>4</td>\n",
       "      <td>390.0</td>\n",
       "      <td>1.0</td>\n",
       "      <td>1.00</td>\n",
       "    </tr>\n",
       "    <tr>\n",
       "      <th>7</th>\n",
       "      <td>7</td>\n",
       "      <td>50.0</td>\n",
       "      <td>1.0</td>\n",
       "      <td>0.10</td>\n",
       "    </tr>\n",
       "  </tbody>\n",
       "</table>\n",
       "</div>"
      ],
      "text/plain": [
       "   exec_time  plan_mem  instance_num  plan_cpu\n",
       "1          6      50.0           1.0      0.30\n",
       "2          8      30.0           1.0      0.05\n",
       "3          3      50.0           1.0      0.10\n",
       "6          4     390.0           1.0      1.00\n",
       "7          7      50.0           1.0      0.10"
      ]
     },
     "execution_count": 53,
     "metadata": {},
     "output_type": "execute_result"
    }
   ],
   "source": [
    "#4.筛选出执行时间<40的所有任务(依据中位数)\n",
    "data=data[data['exec_time']<40]\n",
    "#5.筛选出实例个数<=5的所有任务\n",
    "data=data[data['instance_num']<=5]\n",
    "#6.筛选出CPU核数<=1.0的所有任务\n",
    "data=data[data['plan_cpu']<=1.0]\n",
    "#7.筛选出数据量<=100M的所有任务\n",
    "data=data[data['plan_mem']<=2000.0]\n",
    "data.head()"
   ]
  },
  {
   "cell_type": "code",
   "execution_count": 54,
   "metadata": {},
   "outputs": [
    {
     "data": {
      "text/plain": [
       "783249"
      ]
     },
     "execution_count": 54,
     "metadata": {},
     "output_type": "execute_result"
    }
   ],
   "source": [
    "len(data)"
   ]
  },
  {
   "cell_type": "code",
   "execution_count": 86,
   "metadata": {},
   "outputs": [
    {
     "data": {
      "text/plain": [
       "exec_time\n",
       "1.0        146\n",
       "2.0      27014\n",
       "3.0     143561\n",
       "4.0      81141\n",
       "5.0      45184\n",
       "6.0      55369\n",
       "7.0      45081\n",
       "8.0      38526\n",
       "9.0      42015\n",
       "10.0     35394\n",
       "11.0     28774\n",
       "12.0     24471\n",
       "13.0     20162\n",
       "14.0     17238\n",
       "15.0     15179\n",
       "16.0     13874\n",
       "17.0     12714\n",
       "18.0     11492\n",
       "19.0     10680\n",
       "20.0      9755\n",
       "21.0      9034\n",
       "22.0      8289\n",
       "23.0      7880\n",
       "24.0      7188\n",
       "25.0      6670\n",
       "26.0      6241\n",
       "27.0      5991\n",
       "28.0      5659\n",
       "29.0      5327\n",
       "30.0      5013\n",
       "31.0      5075\n",
       "32.0      4731\n",
       "33.0      4572\n",
       "34.0      4424\n",
       "35.0      4134\n",
       "36.0      4024\n",
       "37.0      3911\n",
       "38.0      3750\n",
       "39.0      3566\n",
       "Name: count, dtype: int64"
      ]
     },
     "execution_count": 86,
     "metadata": {},
     "output_type": "execute_result"
    }
   ],
   "source": [
    "data.exec_time.value_counts().sort_index()"
   ]
  },
  {
   "cell_type": "code",
   "execution_count": 88,
   "metadata": {},
   "outputs": [
    {
     "data": {
      "text/plain": [
       "inst_num\n",
       "1.0    752316\n",
       "2.0     13520\n",
       "3.0      7876\n",
       "4.0      4890\n",
       "5.0      4647\n",
       "Name: count, dtype: int64"
      ]
     },
     "execution_count": 88,
     "metadata": {},
     "output_type": "execute_result"
    }
   ],
   "source": [
    "data.inst_num.value_counts().sort_index()"
   ]
  },
  {
   "cell_type": "code",
   "execution_count": 89,
   "metadata": {},
   "outputs": [
    {
     "data": {
      "text/plain": [
       "plan_cpu\n",
       "0.05    144728\n",
       "0.10    317279\n",
       "0.30    182947\n",
       "0.50      4558\n",
       "0.60       297\n",
       "0.75      1018\n",
       "1.00    132422\n",
       "Name: count, dtype: int64"
      ]
     },
     "execution_count": 89,
     "metadata": {},
     "output_type": "execute_result"
    }
   ],
   "source": [
    "data.plan_cpu.value_counts().sort_index()"
   ]
  },
  {
   "cell_type": "code",
   "execution_count": 90,
   "metadata": {},
   "outputs": [
    {
     "data": {
      "text/plain": [
       "data_vol\n",
       "20.0         352\n",
       "30.0      144749\n",
       "40.0          18\n",
       "50.0      500330\n",
       "60.0          13\n",
       "70.0          10\n",
       "80.0           5\n",
       "90.0           2\n",
       "100.0     106440\n",
       "160.0        210\n",
       "180.0          6\n",
       "190.0       6518\n",
       "200.0       1843\n",
       "210.0          3\n",
       "240.0          1\n",
       "290.0          8\n",
       "310.0          2\n",
       "350.0          1\n",
       "360.0          6\n",
       "370.0        454\n",
       "390.0      10183\n",
       "400.0          1\n",
       "480.0         18\n",
       "490.0          8\n",
       "580.0          2\n",
       "590.0       8294\n",
       "770.0        817\n",
       "780.0        174\n",
       "790.0        660\n",
       "960.0        349\n",
       "1150.0         7\n",
       "1340.0        91\n",
       "1530.0      1667\n",
       "1910.0         7\n",
       "Name: count, dtype: int64"
      ]
     },
     "execution_count": 90,
     "metadata": {},
     "output_type": "execute_result"
    }
   ],
   "source": [
    "data.data_vol.value_counts().sort_index()"
   ]
  },
  {
   "cell_type": "code",
   "execution_count": 80,
   "metadata": {},
   "outputs": [
    {
     "data": {
      "text/html": [
       "<div>\n",
       "<style scoped>\n",
       "    .dataframe tbody tr th:only-of-type {\n",
       "        vertical-align: middle;\n",
       "    }\n",
       "\n",
       "    .dataframe tbody tr th {\n",
       "        vertical-align: top;\n",
       "    }\n",
       "\n",
       "    .dataframe thead th {\n",
       "        text-align: right;\n",
       "    }\n",
       "</style>\n",
       "<table border=\"1\" class=\"dataframe\">\n",
       "  <thead>\n",
       "    <tr style=\"text-align: right;\">\n",
       "      <th></th>\n",
       "      <th>exec_time</th>\n",
       "      <th>plan_mem</th>\n",
       "      <th>instance_num</th>\n",
       "      <th>plan_cpu</th>\n",
       "      <th>soft_ddl</th>\n",
       "    </tr>\n",
       "  </thead>\n",
       "  <tbody>\n",
       "    <tr>\n",
       "      <th>1</th>\n",
       "      <td>6</td>\n",
       "      <td>50.0</td>\n",
       "      <td>1.0</td>\n",
       "      <td>0.30</td>\n",
       "      <td>3.0</td>\n",
       "    </tr>\n",
       "    <tr>\n",
       "      <th>2</th>\n",
       "      <td>8</td>\n",
       "      <td>30.0</td>\n",
       "      <td>1.0</td>\n",
       "      <td>0.05</td>\n",
       "      <td>3.0</td>\n",
       "    </tr>\n",
       "    <tr>\n",
       "      <th>3</th>\n",
       "      <td>3</td>\n",
       "      <td>50.0</td>\n",
       "      <td>1.0</td>\n",
       "      <td>0.10</td>\n",
       "      <td>2.0</td>\n",
       "    </tr>\n",
       "    <tr>\n",
       "      <th>6</th>\n",
       "      <td>4</td>\n",
       "      <td>390.0</td>\n",
       "      <td>1.0</td>\n",
       "      <td>1.00</td>\n",
       "      <td>2.0</td>\n",
       "    </tr>\n",
       "    <tr>\n",
       "      <th>7</th>\n",
       "      <td>7</td>\n",
       "      <td>50.0</td>\n",
       "      <td>1.0</td>\n",
       "      <td>0.10</td>\n",
       "      <td>3.0</td>\n",
       "    </tr>\n",
       "  </tbody>\n",
       "</table>\n",
       "</div>"
      ],
      "text/plain": [
       "   exec_time  plan_mem  instance_num  plan_cpu  soft_ddl\n",
       "1          6      50.0           1.0      0.30       3.0\n",
       "2          8      30.0           1.0      0.05       3.0\n",
       "3          3      50.0           1.0      0.10       2.0\n",
       "6          4     390.0           1.0      1.00       2.0\n",
       "7          7      50.0           1.0      0.10       3.0"
      ]
     },
     "execution_count": 80,
     "metadata": {},
     "output_type": "execute_result"
    }
   ],
   "source": [
    "#8.添加每个任务的软截止期->[0.25,0.5]\n",
    "data['soft_ddl']=data['exec_time'].apply(lambda x: np.ceil(max(1.0, np.random.uniform(0.25, 0.5)*x)))\n",
    "data.head()"
   ]
  },
  {
   "cell_type": "code",
   "execution_count": 95,
   "metadata": {},
   "outputs": [
    {
     "data": {
      "text/plain": [
       "soft_ddl\n",
       "2.0     228869\n",
       "3.0     124074\n",
       "4.0      91158\n",
       "1.0      74938\n",
       "5.0      64815\n",
       "6.0      44559\n",
       "7.0      32343\n",
       "8.0      26023\n",
       "9.0      21441\n",
       "10.0     17880\n",
       "11.0     14343\n",
       "12.0     11436\n",
       "13.0      9063\n",
       "14.0      7051\n",
       "15.0      5295\n",
       "16.0      4062\n",
       "17.0      2879\n",
       "18.0      1868\n",
       "19.0       957\n",
       "20.0       195\n",
       "Name: count, dtype: int64"
      ]
     },
     "execution_count": 95,
     "metadata": {},
     "output_type": "execute_result"
    }
   ],
   "source": [
    "data.soft_ddl.value_counts()"
   ]
  },
  {
   "cell_type": "code",
   "execution_count": 93,
   "metadata": {},
   "outputs": [
    {
     "data": {
      "text/plain": [
       "exec_time    float64\n",
       "data_vol     float64\n",
       "inst_num     float64\n",
       "plan_cpu     float64\n",
       "soft_ddl     float64\n",
       "dtype: object"
      ]
     },
     "execution_count": 93,
     "metadata": {},
     "output_type": "execute_result"
    }
   ],
   "source": [
    "data.dtypes"
   ]
  },
  {
   "cell_type": "code",
   "execution_count": 84,
   "metadata": {},
   "outputs": [
    {
     "data": {
      "text/html": [
       "<div>\n",
       "<style scoped>\n",
       "    .dataframe tbody tr th:only-of-type {\n",
       "        vertical-align: middle;\n",
       "    }\n",
       "\n",
       "    .dataframe tbody tr th {\n",
       "        vertical-align: top;\n",
       "    }\n",
       "\n",
       "    .dataframe thead th {\n",
       "        text-align: right;\n",
       "    }\n",
       "</style>\n",
       "<table border=\"1\" class=\"dataframe\">\n",
       "  <thead>\n",
       "    <tr style=\"text-align: right;\">\n",
       "      <th></th>\n",
       "      <th>exec_time</th>\n",
       "      <th>data_vol</th>\n",
       "      <th>inst_num</th>\n",
       "      <th>plan_cpu</th>\n",
       "      <th>soft_ddl</th>\n",
       "    </tr>\n",
       "  </thead>\n",
       "  <tbody>\n",
       "    <tr>\n",
       "      <th>1</th>\n",
       "      <td>6.0</td>\n",
       "      <td>50.0</td>\n",
       "      <td>1.0</td>\n",
       "      <td>0.30</td>\n",
       "      <td>3.0</td>\n",
       "    </tr>\n",
       "    <tr>\n",
       "      <th>2</th>\n",
       "      <td>8.0</td>\n",
       "      <td>30.0</td>\n",
       "      <td>1.0</td>\n",
       "      <td>0.05</td>\n",
       "      <td>3.0</td>\n",
       "    </tr>\n",
       "    <tr>\n",
       "      <th>3</th>\n",
       "      <td>3.0</td>\n",
       "      <td>50.0</td>\n",
       "      <td>1.0</td>\n",
       "      <td>0.10</td>\n",
       "      <td>2.0</td>\n",
       "    </tr>\n",
       "    <tr>\n",
       "      <th>6</th>\n",
       "      <td>4.0</td>\n",
       "      <td>390.0</td>\n",
       "      <td>1.0</td>\n",
       "      <td>1.00</td>\n",
       "      <td>2.0</td>\n",
       "    </tr>\n",
       "    <tr>\n",
       "      <th>7</th>\n",
       "      <td>7.0</td>\n",
       "      <td>50.0</td>\n",
       "      <td>1.0</td>\n",
       "      <td>0.10</td>\n",
       "      <td>3.0</td>\n",
       "    </tr>\n",
       "  </tbody>\n",
       "</table>\n",
       "</div>"
      ],
      "text/plain": [
       "   exec_time  data_vol  inst_num  plan_cpu  soft_ddl\n",
       "1        6.0      50.0       1.0      0.30       3.0\n",
       "2        8.0      30.0       1.0      0.05       3.0\n",
       "3        3.0      50.0       1.0      0.10       2.0\n",
       "6        4.0     390.0       1.0      1.00       2.0\n",
       "7        7.0      50.0       1.0      0.10       3.0"
      ]
     },
     "execution_count": 84,
     "metadata": {},
     "output_type": "execute_result"
    }
   ],
   "source": [
    "data.rename(columns={'instance_num': 'inst_num', 'plan_mem': 'data_vol'}, inplace=True)\n",
    "data['exec_time']=data['exec_time'].astype(np.float64)\n",
    "data.head()"
   ]
  },
  {
   "cell_type": "code",
   "execution_count": 94,
   "metadata": {},
   "outputs": [
    {
     "data": {
      "text/plain": [
       "783249"
      ]
     },
     "execution_count": 94,
     "metadata": {},
     "output_type": "execute_result"
    }
   ],
   "source": [
    "len(data)"
   ]
  },
  {
   "cell_type": "code",
   "execution_count": 97,
   "metadata": {},
   "outputs": [],
   "source": [
    "data.to_csv(\"temp/data-v2.0.csv\")\n",
    "data.to_pickle(\"temp/data-v2.0.pkl\")"
   ]
  },
  {
   "cell_type": "code",
   "execution_count": 2,
   "metadata": {},
   "outputs": [
    {
     "data": {
      "text/html": [
       "<div>\n",
       "<style scoped>\n",
       "    .dataframe tbody tr th:only-of-type {\n",
       "        vertical-align: middle;\n",
       "    }\n",
       "\n",
       "    .dataframe tbody tr th {\n",
       "        vertical-align: top;\n",
       "    }\n",
       "\n",
       "    .dataframe thead th {\n",
       "        text-align: right;\n",
       "    }\n",
       "</style>\n",
       "<table border=\"1\" class=\"dataframe\">\n",
       "  <thead>\n",
       "    <tr style=\"text-align: right;\">\n",
       "      <th></th>\n",
       "      <th>exec_time</th>\n",
       "      <th>data_vol</th>\n",
       "      <th>inst_num</th>\n",
       "      <th>plan_cpu</th>\n",
       "      <th>soft_ddl</th>\n",
       "    </tr>\n",
       "  </thead>\n",
       "  <tbody>\n",
       "    <tr>\n",
       "      <th>1</th>\n",
       "      <td>6.0</td>\n",
       "      <td>50.0</td>\n",
       "      <td>1.0</td>\n",
       "      <td>0.30</td>\n",
       "      <td>3.0</td>\n",
       "    </tr>\n",
       "    <tr>\n",
       "      <th>2</th>\n",
       "      <td>8.0</td>\n",
       "      <td>30.0</td>\n",
       "      <td>1.0</td>\n",
       "      <td>0.05</td>\n",
       "      <td>3.0</td>\n",
       "    </tr>\n",
       "    <tr>\n",
       "      <th>3</th>\n",
       "      <td>3.0</td>\n",
       "      <td>50.0</td>\n",
       "      <td>1.0</td>\n",
       "      <td>0.10</td>\n",
       "      <td>2.0</td>\n",
       "    </tr>\n",
       "    <tr>\n",
       "      <th>6</th>\n",
       "      <td>4.0</td>\n",
       "      <td>390.0</td>\n",
       "      <td>1.0</td>\n",
       "      <td>1.00</td>\n",
       "      <td>2.0</td>\n",
       "    </tr>\n",
       "    <tr>\n",
       "      <th>7</th>\n",
       "      <td>7.0</td>\n",
       "      <td>50.0</td>\n",
       "      <td>1.0</td>\n",
       "      <td>0.10</td>\n",
       "      <td>3.0</td>\n",
       "    </tr>\n",
       "    <tr>\n",
       "      <th>10</th>\n",
       "      <td>10.0</td>\n",
       "      <td>100.0</td>\n",
       "      <td>1.0</td>\n",
       "      <td>1.00</td>\n",
       "      <td>4.0</td>\n",
       "    </tr>\n",
       "    <tr>\n",
       "      <th>11</th>\n",
       "      <td>5.0</td>\n",
       "      <td>100.0</td>\n",
       "      <td>1.0</td>\n",
       "      <td>1.00</td>\n",
       "      <td>2.0</td>\n",
       "    </tr>\n",
       "    <tr>\n",
       "      <th>12</th>\n",
       "      <td>4.0</td>\n",
       "      <td>50.0</td>\n",
       "      <td>1.0</td>\n",
       "      <td>0.10</td>\n",
       "      <td>2.0</td>\n",
       "    </tr>\n",
       "    <tr>\n",
       "      <th>16</th>\n",
       "      <td>3.0</td>\n",
       "      <td>50.0</td>\n",
       "      <td>1.0</td>\n",
       "      <td>0.10</td>\n",
       "      <td>2.0</td>\n",
       "    </tr>\n",
       "    <tr>\n",
       "      <th>18</th>\n",
       "      <td>4.0</td>\n",
       "      <td>50.0</td>\n",
       "      <td>1.0</td>\n",
       "      <td>0.10</td>\n",
       "      <td>2.0</td>\n",
       "    </tr>\n",
       "  </tbody>\n",
       "</table>\n",
       "</div>"
      ],
      "text/plain": [
       "    exec_time  data_vol  inst_num  plan_cpu  soft_ddl\n",
       "1         6.0      50.0       1.0      0.30       3.0\n",
       "2         8.0      30.0       1.0      0.05       3.0\n",
       "3         3.0      50.0       1.0      0.10       2.0\n",
       "6         4.0     390.0       1.0      1.00       2.0\n",
       "7         7.0      50.0       1.0      0.10       3.0\n",
       "10       10.0     100.0       1.0      1.00       4.0\n",
       "11        5.0     100.0       1.0      1.00       2.0\n",
       "12        4.0      50.0       1.0      0.10       2.0\n",
       "16        3.0      50.0       1.0      0.10       2.0\n",
       "18        4.0      50.0       1.0      0.10       2.0"
      ]
     },
     "execution_count": 2,
     "metadata": {},
     "output_type": "execute_result"
    }
   ],
   "source": [
    "data=pd.read_pickle('temp/data-v2.0.pkl')\n",
    "data.head(10)"
   ]
  },
  {
   "cell_type": "code",
   "execution_count": 3,
   "metadata": {},
   "outputs": [
    {
     "data": {
      "text/plain": [
       "783249"
      ]
     },
     "execution_count": 3,
     "metadata": {},
     "output_type": "execute_result"
    }
   ],
   "source": [
    "len(data)"
   ]
  },
  {
   "cell_type": "code",
   "execution_count": 4,
   "metadata": {},
   "outputs": [
    {
     "data": {
      "text/html": [
       "<div>\n",
       "<style scoped>\n",
       "    .dataframe tbody tr th:only-of-type {\n",
       "        vertical-align: middle;\n",
       "    }\n",
       "\n",
       "    .dataframe tbody tr th {\n",
       "        vertical-align: top;\n",
       "    }\n",
       "\n",
       "    .dataframe thead th {\n",
       "        text-align: right;\n",
       "    }\n",
       "</style>\n",
       "<table border=\"1\" class=\"dataframe\">\n",
       "  <thead>\n",
       "    <tr style=\"text-align: right;\">\n",
       "      <th></th>\n",
       "      <th>exec_time</th>\n",
       "      <th>data_vol</th>\n",
       "      <th>inst_num</th>\n",
       "      <th>plan_cpu</th>\n",
       "      <th>soft_ddl</th>\n",
       "    </tr>\n",
       "  </thead>\n",
       "  <tbody>\n",
       "    <tr>\n",
       "      <th>0</th>\n",
       "      <td>6.0</td>\n",
       "      <td>50.0</td>\n",
       "      <td>1.0</td>\n",
       "      <td>0.30</td>\n",
       "      <td>3.0</td>\n",
       "    </tr>\n",
       "    <tr>\n",
       "      <th>1</th>\n",
       "      <td>8.0</td>\n",
       "      <td>30.0</td>\n",
       "      <td>1.0</td>\n",
       "      <td>0.05</td>\n",
       "      <td>3.0</td>\n",
       "    </tr>\n",
       "    <tr>\n",
       "      <th>2</th>\n",
       "      <td>3.0</td>\n",
       "      <td>50.0</td>\n",
       "      <td>1.0</td>\n",
       "      <td>0.10</td>\n",
       "      <td>2.0</td>\n",
       "    </tr>\n",
       "    <tr>\n",
       "      <th>3</th>\n",
       "      <td>4.0</td>\n",
       "      <td>390.0</td>\n",
       "      <td>1.0</td>\n",
       "      <td>1.00</td>\n",
       "      <td>2.0</td>\n",
       "    </tr>\n",
       "    <tr>\n",
       "      <th>4</th>\n",
       "      <td>7.0</td>\n",
       "      <td>50.0</td>\n",
       "      <td>1.0</td>\n",
       "      <td>0.10</td>\n",
       "      <td>3.0</td>\n",
       "    </tr>\n",
       "    <tr>\n",
       "      <th>5</th>\n",
       "      <td>10.0</td>\n",
       "      <td>100.0</td>\n",
       "      <td>1.0</td>\n",
       "      <td>1.00</td>\n",
       "      <td>4.0</td>\n",
       "    </tr>\n",
       "    <tr>\n",
       "      <th>6</th>\n",
       "      <td>5.0</td>\n",
       "      <td>100.0</td>\n",
       "      <td>1.0</td>\n",
       "      <td>1.00</td>\n",
       "      <td>2.0</td>\n",
       "    </tr>\n",
       "    <tr>\n",
       "      <th>7</th>\n",
       "      <td>4.0</td>\n",
       "      <td>50.0</td>\n",
       "      <td>1.0</td>\n",
       "      <td>0.10</td>\n",
       "      <td>2.0</td>\n",
       "    </tr>\n",
       "    <tr>\n",
       "      <th>8</th>\n",
       "      <td>3.0</td>\n",
       "      <td>50.0</td>\n",
       "      <td>1.0</td>\n",
       "      <td>0.10</td>\n",
       "      <td>2.0</td>\n",
       "    </tr>\n",
       "    <tr>\n",
       "      <th>9</th>\n",
       "      <td>4.0</td>\n",
       "      <td>50.0</td>\n",
       "      <td>1.0</td>\n",
       "      <td>0.10</td>\n",
       "      <td>2.0</td>\n",
       "    </tr>\n",
       "  </tbody>\n",
       "</table>\n",
       "</div>"
      ],
      "text/plain": [
       "   exec_time  data_vol  inst_num  plan_cpu  soft_ddl\n",
       "0        6.0      50.0       1.0      0.30       3.0\n",
       "1        8.0      30.0       1.0      0.05       3.0\n",
       "2        3.0      50.0       1.0      0.10       2.0\n",
       "3        4.0     390.0       1.0      1.00       2.0\n",
       "4        7.0      50.0       1.0      0.10       3.0\n",
       "5       10.0     100.0       1.0      1.00       4.0\n",
       "6        5.0     100.0       1.0      1.00       2.0\n",
       "7        4.0      50.0       1.0      0.10       2.0\n",
       "8        3.0      50.0       1.0      0.10       2.0\n",
       "9        4.0      50.0       1.0      0.10       2.0"
      ]
     },
     "execution_count": 4,
     "metadata": {},
     "output_type": "execute_result"
    }
   ],
   "source": [
    "data.reset_index(drop=True, inplace=True)\n",
    "data.head(10)"
   ]
  },
  {
   "cell_type": "code",
   "execution_count": 8,
   "metadata": {},
   "outputs": [
    {
     "data": {
      "text/html": [
       "<div>\n",
       "<style scoped>\n",
       "    .dataframe tbody tr th:only-of-type {\n",
       "        vertical-align: middle;\n",
       "    }\n",
       "\n",
       "    .dataframe tbody tr th {\n",
       "        vertical-align: top;\n",
       "    }\n",
       "\n",
       "    .dataframe thead th {\n",
       "        text-align: right;\n",
       "    }\n",
       "</style>\n",
       "<table border=\"1\" class=\"dataframe\">\n",
       "  <thead>\n",
       "    <tr style=\"text-align: right;\">\n",
       "      <th></th>\n",
       "      <th>exec_time</th>\n",
       "      <th>data_vol</th>\n",
       "      <th>inst_num</th>\n",
       "      <th>plan_cpu</th>\n",
       "      <th>soft_ddl</th>\n",
       "    </tr>\n",
       "  </thead>\n",
       "  <tbody>\n",
       "    <tr>\n",
       "      <th>783239</th>\n",
       "      <td>19.0</td>\n",
       "      <td>50.0</td>\n",
       "      <td>1.0</td>\n",
       "      <td>0.30</td>\n",
       "      <td>5.0</td>\n",
       "    </tr>\n",
       "    <tr>\n",
       "      <th>783240</th>\n",
       "      <td>18.0</td>\n",
       "      <td>50.0</td>\n",
       "      <td>1.0</td>\n",
       "      <td>0.30</td>\n",
       "      <td>7.0</td>\n",
       "    </tr>\n",
       "    <tr>\n",
       "      <th>783241</th>\n",
       "      <td>5.0</td>\n",
       "      <td>50.0</td>\n",
       "      <td>1.0</td>\n",
       "      <td>0.10</td>\n",
       "      <td>2.0</td>\n",
       "    </tr>\n",
       "    <tr>\n",
       "      <th>783242</th>\n",
       "      <td>20.0</td>\n",
       "      <td>30.0</td>\n",
       "      <td>1.0</td>\n",
       "      <td>0.05</td>\n",
       "      <td>7.0</td>\n",
       "    </tr>\n",
       "    <tr>\n",
       "      <th>783243</th>\n",
       "      <td>7.0</td>\n",
       "      <td>50.0</td>\n",
       "      <td>1.0</td>\n",
       "      <td>0.10</td>\n",
       "      <td>3.0</td>\n",
       "    </tr>\n",
       "    <tr>\n",
       "      <th>783244</th>\n",
       "      <td>5.0</td>\n",
       "      <td>50.0</td>\n",
       "      <td>1.0</td>\n",
       "      <td>0.10</td>\n",
       "      <td>2.0</td>\n",
       "    </tr>\n",
       "    <tr>\n",
       "      <th>783245</th>\n",
       "      <td>12.0</td>\n",
       "      <td>30.0</td>\n",
       "      <td>1.0</td>\n",
       "      <td>0.05</td>\n",
       "      <td>5.0</td>\n",
       "    </tr>\n",
       "    <tr>\n",
       "      <th>783246</th>\n",
       "      <td>3.0</td>\n",
       "      <td>50.0</td>\n",
       "      <td>1.0</td>\n",
       "      <td>0.10</td>\n",
       "      <td>2.0</td>\n",
       "    </tr>\n",
       "    <tr>\n",
       "      <th>783247</th>\n",
       "      <td>9.0</td>\n",
       "      <td>50.0</td>\n",
       "      <td>1.0</td>\n",
       "      <td>0.30</td>\n",
       "      <td>3.0</td>\n",
       "    </tr>\n",
       "    <tr>\n",
       "      <th>783248</th>\n",
       "      <td>20.0</td>\n",
       "      <td>100.0</td>\n",
       "      <td>4.0</td>\n",
       "      <td>1.00</td>\n",
       "      <td>7.0</td>\n",
       "    </tr>\n",
       "  </tbody>\n",
       "</table>\n",
       "</div>"
      ],
      "text/plain": [
       "        exec_time  data_vol  inst_num  plan_cpu  soft_ddl\n",
       "783239       19.0      50.0       1.0      0.30       5.0\n",
       "783240       18.0      50.0       1.0      0.30       7.0\n",
       "783241        5.0      50.0       1.0      0.10       2.0\n",
       "783242       20.0      30.0       1.0      0.05       7.0\n",
       "783243        7.0      50.0       1.0      0.10       3.0\n",
       "783244        5.0      50.0       1.0      0.10       2.0\n",
       "783245       12.0      30.0       1.0      0.05       5.0\n",
       "783246        3.0      50.0       1.0      0.10       2.0\n",
       "783247        9.0      50.0       1.0      0.30       3.0\n",
       "783248       20.0     100.0       4.0      1.00       7.0"
      ]
     },
     "execution_count": 8,
     "metadata": {},
     "output_type": "execute_result"
    }
   ],
   "source": [
    "data.tail(10)"
   ]
  },
  {
   "cell_type": "code",
   "execution_count": 22,
   "metadata": {},
   "outputs": [
    {
     "data": {
      "text/plain": [
       "exec_time\n",
       "1.0        145\n",
       "2.0      26909\n",
       "3.0     140779\n",
       "4.0      75527\n",
       "5.0      41229\n",
       "6.0      53276\n",
       "7.0      43324\n",
       "8.0      37037\n",
       "9.0      40816\n",
       "10.0     34347\n",
       "11.0     27804\n",
       "12.0     23623\n",
       "13.0     19452\n",
       "14.0     16600\n",
       "15.0     14632\n",
       "16.0     13354\n",
       "17.0     12222\n",
       "18.0     11041\n",
       "19.0     10248\n",
       "20.0      9283\n",
       "21.0      8589\n",
       "22.0      7945\n",
       "23.0      7578\n",
       "24.0      6888\n",
       "25.0      6383\n",
       "26.0      5961\n",
       "27.0      5718\n",
       "28.0      5377\n",
       "29.0      5030\n",
       "30.0      4715\n",
       "31.0      4783\n",
       "32.0      4455\n",
       "33.0      4283\n",
       "34.0      4156\n",
       "35.0      3897\n",
       "36.0      3796\n",
       "37.0      3737\n",
       "38.0      3568\n",
       "39.0      3412\n",
       "Name: count, dtype: int64"
      ]
     },
     "execution_count": 22,
     "metadata": {},
     "output_type": "execute_result"
    }
   ],
   "source": [
    "data.exec_time.value_counts().sort_index()"
   ]
  },
  {
   "cell_type": "code",
   "execution_count": 21,
   "metadata": {},
   "outputs": [
    {
     "data": {
      "text/plain": [
       "data_vol\n",
       "20.0        352\n",
       "30.0     144749\n",
       "40.0         18\n",
       "50.0     500330\n",
       "60.0         13\n",
       "70.0         10\n",
       "80.0          5\n",
       "90.0          2\n",
       "100.0    106440\n",
       "Name: count, dtype: int64"
      ]
     },
     "execution_count": 21,
     "metadata": {},
     "output_type": "execute_result"
    }
   ],
   "source": [
    "data.data_vol.value_counts().sort_index()"
   ]
  },
  {
   "cell_type": "code",
   "execution_count": 20,
   "metadata": {},
   "outputs": [
    {
     "data": {
      "text/plain": [
       "inst_num\n",
       "1.0    726049\n",
       "2.0     10989\n",
       "3.0      7283\n",
       "4.0      4279\n",
       "5.0      3319\n",
       "Name: count, dtype: int64"
      ]
     },
     "execution_count": 20,
     "metadata": {},
     "output_type": "execute_result"
    }
   ],
   "source": [
    "data.inst_num.value_counts().sort_index()"
   ]
  },
  {
   "cell_type": "code",
   "execution_count": 19,
   "metadata": {},
   "outputs": [
    {
     "data": {
      "text/plain": [
       "plan_cpu\n",
       "0.10    317279\n",
       "0.30    182947\n",
       "0.05    144728\n",
       "1.00    105947\n",
       "0.75      1018\n",
       "Name: count, dtype: int64"
      ]
     },
     "execution_count": 19,
     "metadata": {},
     "output_type": "execute_result"
    }
   ],
   "source": [
    "data.plan_cpu.value_counts()"
   ]
  },
  {
   "cell_type": "code",
   "execution_count": 18,
   "metadata": {},
   "outputs": [
    {
     "data": {
      "text/plain": [
       "soft_ddl\n",
       "1.0      73873\n",
       "2.0     218139\n",
       "3.0     118634\n",
       "4.0      88037\n",
       "5.0      62705\n",
       "6.0      42852\n",
       "7.0      31057\n",
       "8.0      24929\n",
       "9.0      20485\n",
       "10.0     16992\n",
       "11.0     13640\n",
       "12.0     10872\n",
       "13.0      8600\n",
       "14.0      6658\n",
       "15.0      5015\n",
       "16.0      3807\n",
       "17.0      2741\n",
       "18.0      1792\n",
       "19.0       906\n",
       "20.0       185\n",
       "Name: count, dtype: int64"
      ]
     },
     "execution_count": 18,
     "metadata": {},
     "output_type": "execute_result"
    }
   ],
   "source": [
    "data.soft_ddl.value_counts().sort_index()"
   ]
  },
  {
   "cell_type": "code",
   "execution_count": 17,
   "metadata": {},
   "outputs": [
    {
     "data": {
      "text/html": [
       "<div>\n",
       "<style scoped>\n",
       "    .dataframe tbody tr th:only-of-type {\n",
       "        vertical-align: middle;\n",
       "    }\n",
       "\n",
       "    .dataframe tbody tr th {\n",
       "        vertical-align: top;\n",
       "    }\n",
       "\n",
       "    .dataframe thead th {\n",
       "        text-align: right;\n",
       "    }\n",
       "</style>\n",
       "<table border=\"1\" class=\"dataframe\">\n",
       "  <thead>\n",
       "    <tr style=\"text-align: right;\">\n",
       "      <th></th>\n",
       "      <th>exec_time</th>\n",
       "      <th>data_vol</th>\n",
       "      <th>inst_num</th>\n",
       "      <th>plan_cpu</th>\n",
       "      <th>soft_ddl</th>\n",
       "    </tr>\n",
       "  </thead>\n",
       "  <tbody>\n",
       "    <tr>\n",
       "      <th>0</th>\n",
       "      <td>6.0</td>\n",
       "      <td>50.0</td>\n",
       "      <td>1.0</td>\n",
       "      <td>0.30</td>\n",
       "      <td>3.0</td>\n",
       "    </tr>\n",
       "    <tr>\n",
       "      <th>1</th>\n",
       "      <td>8.0</td>\n",
       "      <td>30.0</td>\n",
       "      <td>1.0</td>\n",
       "      <td>0.05</td>\n",
       "      <td>3.0</td>\n",
       "    </tr>\n",
       "    <tr>\n",
       "      <th>2</th>\n",
       "      <td>3.0</td>\n",
       "      <td>50.0</td>\n",
       "      <td>1.0</td>\n",
       "      <td>0.10</td>\n",
       "      <td>2.0</td>\n",
       "    </tr>\n",
       "    <tr>\n",
       "      <th>4</th>\n",
       "      <td>7.0</td>\n",
       "      <td>50.0</td>\n",
       "      <td>1.0</td>\n",
       "      <td>0.10</td>\n",
       "      <td>3.0</td>\n",
       "    </tr>\n",
       "    <tr>\n",
       "      <th>5</th>\n",
       "      <td>10.0</td>\n",
       "      <td>100.0</td>\n",
       "      <td>1.0</td>\n",
       "      <td>1.00</td>\n",
       "      <td>4.0</td>\n",
       "    </tr>\n",
       "    <tr>\n",
       "      <th>6</th>\n",
       "      <td>5.0</td>\n",
       "      <td>100.0</td>\n",
       "      <td>1.0</td>\n",
       "      <td>1.00</td>\n",
       "      <td>2.0</td>\n",
       "    </tr>\n",
       "    <tr>\n",
       "      <th>7</th>\n",
       "      <td>4.0</td>\n",
       "      <td>50.0</td>\n",
       "      <td>1.0</td>\n",
       "      <td>0.10</td>\n",
       "      <td>2.0</td>\n",
       "    </tr>\n",
       "    <tr>\n",
       "      <th>8</th>\n",
       "      <td>3.0</td>\n",
       "      <td>50.0</td>\n",
       "      <td>1.0</td>\n",
       "      <td>0.10</td>\n",
       "      <td>2.0</td>\n",
       "    </tr>\n",
       "    <tr>\n",
       "      <th>9</th>\n",
       "      <td>4.0</td>\n",
       "      <td>50.0</td>\n",
       "      <td>1.0</td>\n",
       "      <td>0.10</td>\n",
       "      <td>2.0</td>\n",
       "    </tr>\n",
       "    <tr>\n",
       "      <th>10</th>\n",
       "      <td>4.0</td>\n",
       "      <td>50.0</td>\n",
       "      <td>1.0</td>\n",
       "      <td>0.10</td>\n",
       "      <td>2.0</td>\n",
       "    </tr>\n",
       "    <tr>\n",
       "      <th>11</th>\n",
       "      <td>4.0</td>\n",
       "      <td>100.0</td>\n",
       "      <td>1.0</td>\n",
       "      <td>1.00</td>\n",
       "      <td>2.0</td>\n",
       "    </tr>\n",
       "    <tr>\n",
       "      <th>12</th>\n",
       "      <td>19.0</td>\n",
       "      <td>100.0</td>\n",
       "      <td>1.0</td>\n",
       "      <td>1.00</td>\n",
       "      <td>10.0</td>\n",
       "    </tr>\n",
       "    <tr>\n",
       "      <th>13</th>\n",
       "      <td>9.0</td>\n",
       "      <td>50.0</td>\n",
       "      <td>1.0</td>\n",
       "      <td>0.10</td>\n",
       "      <td>4.0</td>\n",
       "    </tr>\n",
       "    <tr>\n",
       "      <th>14</th>\n",
       "      <td>33.0</td>\n",
       "      <td>50.0</td>\n",
       "      <td>1.0</td>\n",
       "      <td>0.10</td>\n",
       "      <td>15.0</td>\n",
       "    </tr>\n",
       "    <tr>\n",
       "      <th>15</th>\n",
       "      <td>36.0</td>\n",
       "      <td>50.0</td>\n",
       "      <td>1.0</td>\n",
       "      <td>0.30</td>\n",
       "      <td>18.0</td>\n",
       "    </tr>\n",
       "  </tbody>\n",
       "</table>\n",
       "</div>"
      ],
      "text/plain": [
       "    exec_time  data_vol  inst_num  plan_cpu  soft_ddl\n",
       "0         6.0      50.0       1.0      0.30       3.0\n",
       "1         8.0      30.0       1.0      0.05       3.0\n",
       "2         3.0      50.0       1.0      0.10       2.0\n",
       "4         7.0      50.0       1.0      0.10       3.0\n",
       "5        10.0     100.0       1.0      1.00       4.0\n",
       "6         5.0     100.0       1.0      1.00       2.0\n",
       "7         4.0      50.0       1.0      0.10       2.0\n",
       "8         3.0      50.0       1.0      0.10       2.0\n",
       "9         4.0      50.0       1.0      0.10       2.0\n",
       "10        4.0      50.0       1.0      0.10       2.0\n",
       "11        4.0     100.0       1.0      1.00       2.0\n",
       "12       19.0     100.0       1.0      1.00      10.0\n",
       "13        9.0      50.0       1.0      0.10       4.0\n",
       "14       33.0      50.0       1.0      0.10      15.0\n",
       "15       36.0      50.0       1.0      0.30      18.0"
      ]
     },
     "execution_count": 17,
     "metadata": {},
     "output_type": "execute_result"
    }
   ],
   "source": [
    "data.head(15)"
   ]
  },
  {
   "cell_type": "code",
   "execution_count": 14,
   "metadata": {},
   "outputs": [],
   "source": [
    "data.to_pickle(r\"outData/task.pkl\")"
   ]
  },
  {
   "cell_type": "code",
   "execution_count": 15,
   "metadata": {},
   "outputs": [
    {
     "data": {
      "text/html": [
       "<div>\n",
       "<style scoped>\n",
       "    .dataframe tbody tr th:only-of-type {\n",
       "        vertical-align: middle;\n",
       "    }\n",
       "\n",
       "    .dataframe tbody tr th {\n",
       "        vertical-align: top;\n",
       "    }\n",
       "\n",
       "    .dataframe thead th {\n",
       "        text-align: right;\n",
       "    }\n",
       "</style>\n",
       "<table border=\"1\" class=\"dataframe\">\n",
       "  <thead>\n",
       "    <tr style=\"text-align: right;\">\n",
       "      <th></th>\n",
       "      <th>exec_time</th>\n",
       "      <th>data_vol</th>\n",
       "      <th>inst_num</th>\n",
       "      <th>plan_cpu</th>\n",
       "      <th>soft_ddl</th>\n",
       "    </tr>\n",
       "  </thead>\n",
       "  <tbody>\n",
       "    <tr>\n",
       "      <th>0</th>\n",
       "      <td>6.0</td>\n",
       "      <td>50.0</td>\n",
       "      <td>1.0</td>\n",
       "      <td>0.30</td>\n",
       "      <td>3.0</td>\n",
       "    </tr>\n",
       "    <tr>\n",
       "      <th>1</th>\n",
       "      <td>8.0</td>\n",
       "      <td>30.0</td>\n",
       "      <td>1.0</td>\n",
       "      <td>0.05</td>\n",
       "      <td>3.0</td>\n",
       "    </tr>\n",
       "    <tr>\n",
       "      <th>2</th>\n",
       "      <td>3.0</td>\n",
       "      <td>50.0</td>\n",
       "      <td>1.0</td>\n",
       "      <td>0.10</td>\n",
       "      <td>2.0</td>\n",
       "    </tr>\n",
       "    <tr>\n",
       "      <th>4</th>\n",
       "      <td>7.0</td>\n",
       "      <td>50.0</td>\n",
       "      <td>1.0</td>\n",
       "      <td>0.10</td>\n",
       "      <td>3.0</td>\n",
       "    </tr>\n",
       "    <tr>\n",
       "      <th>5</th>\n",
       "      <td>10.0</td>\n",
       "      <td>100.0</td>\n",
       "      <td>1.0</td>\n",
       "      <td>1.00</td>\n",
       "      <td>4.0</td>\n",
       "    </tr>\n",
       "  </tbody>\n",
       "</table>\n",
       "</div>"
      ],
      "text/plain": [
       "   exec_time  data_vol  inst_num  plan_cpu  soft_ddl\n",
       "0        6.0      50.0       1.0      0.30       3.0\n",
       "1        8.0      30.0       1.0      0.05       3.0\n",
       "2        3.0      50.0       1.0      0.10       2.0\n",
       "4        7.0      50.0       1.0      0.10       3.0\n",
       "5       10.0     100.0       1.0      1.00       4.0"
      ]
     },
     "execution_count": 15,
     "metadata": {},
     "output_type": "execute_result"
    }
   ],
   "source": [
    "data=pd.read_pickle(r\"outData/task.pkl\")\n",
    "data.head()"
   ]
  },
  {
   "cell_type": "code",
   "execution_count": 16,
   "metadata": {},
   "outputs": [
    {
     "data": {
      "text/plain": [
       "751919"
      ]
     },
     "execution_count": 16,
     "metadata": {},
     "output_type": "execute_result"
    }
   ],
   "source": [
    "len(data)"
   ]
  }
 ],
 "metadata": {
  "kernelspec": {
   "display_name": "base",
   "language": "python",
   "name": "python3"
  },
  "language_info": {
   "codemirror_mode": {
    "name": "ipython",
    "version": 3
   },
   "file_extension": ".py",
   "mimetype": "text/x-python",
   "name": "python",
   "nbconvert_exporter": "python",
   "pygments_lexer": "ipython3",
   "version": "3.11.5"
  }
 },
 "nbformat": 4,
 "nbformat_minor": 2
}
